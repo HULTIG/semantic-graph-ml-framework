{
 "cells": [
  {
   "cell_type": "markdown",
   "id": "13d9cd89612d2e79",
   "metadata": {},
   "source": [
    "# SAFIR Workflow Demonstration Notebook\n"
   ]
  },
  {
   "cell_type": "markdown",
   "id": "f5dcf763eadb4055",
   "metadata": {},
   "source": [
    "## Table of Contents\n",
    "\n",
    "1. [Introduction](#Introduction)\n",
    "1. [Load Input Data](#Load-Input-Data)\n",
    "1. [Graph Construction](#Graph-Construction)\n",
    "1. [Feature Engineering](#Feature-Engineering)\n",
    "1. [Model Training](#Model-Training)\n",
    "1. [Adaptation Triggering](#Adaptation-Triggering)\n",
    "1. [Evaluation](#Evaluation)\n",
    "1. [Continuous Learning](#Continuous-Learning) "
   ]
  },
  {
   "cell_type": "markdown",
   "id": "f39baf9291986a77",
   "metadata": {},
   "source": [
    "## Introduction\n",
    "\n",
    "This notebook demonstrates a sample use case to process input data from healthcare and environmental readings of a user. \n",
    "\n",
    "The workflow includes the implementation of graph learning into the process using the following steps: \n",
    "1. **Load input data**: JSON data representing devices, sensors, actuators, and events;\n",
    "2. **Transform the data into RDF format using an external API**: the api service is running in the same network as the notebook and can be accessed at `http://api:8080/api/v1/rdf/gi/generate-rdf`, the data is transformed into RDF format using the R2RML transformation API;\n",
    "3. **Graph construction**: the RDF data is converted into a NetworkX graph for further analysis and visualization;\n",
    "4. **Feature engineering**: by extracting features from the graph data;\n",
    "5. **Model training**: a sample Graph Neural Network (GNN) is trained to classify patient risk levels based on graph structure and features;\n",
    "6. **Adaptation triggering**: a simulation of notifications or alerts are triggered for high-risk patients;\n",
    "7. **Evaluation**: the performance and utility of the generated RDF graph are evaluated through visualizations and metrics.\n",
    "8. **Visualization**: the graph is visualized using NetworkX.\n",
    "9. **Metrics Calculation**: key metrics are calculated for the workflow.\n",
    "10. **Continuous Learning**: the graph learning process is repeated for new data.\n",
    "\n",
    "### Use Case Demonstration in Self-Adaptive Systems\n",
    "\n",
    "#### Node Classification for Patient Monitoring\n",
    "\n",
    "- **Scenario**: Predict the risk level of a patient (e.g. low, medium, high).\n",
    "- **Graph Input**:\n",
    "  - **Nodes**: Patients, observations, devices.\n",
    "  - **Features**: Sensor readings (e.g. temperature), patient profiles.\n",
    "- **Learning Task**: Train a Graph Neural Network (GNN) to classify patient risk levels based on graph structure and features.\n",
    "- **Adaptation**: Trigger notifications or alerts for high-risk patients.\n",
    "\n",
    "This use case demonstrates how graph learning can be applied to self-adaptive systems, enabling real-time monitoring and automated decision-making in critical applications such as patient care.\n",
    "\n",
    "In summary, the workflow consists of the following steps:\n",
    "1. **Achieving Semantic Data Interoperability**: Transforming JSON input data into RDF, making it machine-readable and semantically enriched.\n",
    "2. **Graph Learning and Visualization**: Constructing and analyzing the RDF graph, with metrics calculation for insights.\n",
    "3. **Metrics Calculation**: Evaluating the performance and utility of the generated RDF graph through visualizations and metrics."
   ]
  },
  {
   "cell_type": "markdown",
   "id": "647fea21-afd2-483c-8852-0c881add00c7",
   "metadata": {},
   "source": [
    "Uncomment the following line if you haven't installed the necessary dependencies yet."
   ]
  },
  {
   "cell_type": "code",
   "execution_count": 7,
   "id": "6c32bcb6881f9ebf",
   "metadata": {
    "jupyter": {
     "is_executing": true
    }
   },
   "outputs": [],
   "source": [
    "# Install the required packages\n",
    "# !pip install -r requirements.txt"
   ]
  },
  {
   "cell_type": "markdown",
   "id": "6b683cea-da83-435e-baaf-4d41a4468c68",
   "metadata": {},
   "source": [
    "Dependencies may include libraries for RDF processing, machine learning, and graph visualization."
   ]
  },
  {
   "cell_type": "code",
   "id": "654e8c6496a946af",
   "metadata": {
    "ExecuteTime": {
     "end_time": "2024-12-15T17:49:13.885101Z",
     "start_time": "2024-12-15T17:48:59.808779Z"
    }
   },
   "source": [
    "# Importing required libraries\n",
    "import requests  # For making HTTP requests to external APIs\n",
    "import rdflib  # For working with RDF data and generating RDF graphs\n",
    "import networkx as nx  # For graph-based learning and visualization\n",
    "import matplotlib.pyplot as plt  # For creating visualizations such as plots and graphs\n",
    "import pandas as pd  # For data manipulation and analysis\n",
    "import numpy as np  # For numerical operations and handling arrays\n",
    "from sklearn.metrics import classification_report, roc_auc_score  # For evaluating model performance\n",
    "import os  # For interacting with the file system"
   ],
   "outputs": [],
   "execution_count": 1
  },
  {
   "cell_type": "code",
   "id": "fd2ce626cd63f2f4",
   "metadata": {
    "ExecuteTime": {
     "end_time": "2024-12-15T17:49:13.900394Z",
     "start_time": "2024-12-15T17:49:13.889098Z"
    }
   },
   "source": [
    "# Constants and Configuration\n",
    "\n",
    "# The base URL for the API that generates RDF data\n",
    "API_URL = \"http://api:8080/api/v1/rdf/gi/generate-rdf\"\n",
    "\n",
    "# File paths for storing the RDF output and the generated graph\n",
    "RDF_OUTPUT_FILE = \"output.ttl\"\n",
    "GRAPH_OUTPUT_FILE = \"graph.gpickle\"\n",
    "SPARQL_OUTPUT_FILE = \"sparql_results.ttl\""
   ],
   "outputs": [],
   "execution_count": 2
  },
  {
   "cell_type": "markdown",
   "id": "dc9eee35-4217-4b8e-805f-eb8b69642a09",
   "metadata": {},
   "source": [
    "These paths are used to save the results of the RDF transformation and graph learning process."
   ]
  },
  {
   "metadata": {},
   "cell_type": "markdown",
   "source": "## Load Input Data",
   "id": "fc63945e028f6d36"
  },
  {
   "metadata": {},
   "cell_type": "markdown",
   "source": [
    "To visualise the generated RDF data, we can load the data into apache jena fuseki and execute SPARQL queries to extract information from the RDF data.\n",
    "\n",
    "For this we have to create the dataset Apache Jena Fuseki and load the RDF data into the dataset.\n",
    "\n",
    "Go to the Apache Jena Fuseki dashboard at `http://localhost:3030/` and create a new dataset named `dataset` with the default settings, as in the image below:\n",
    "\n",
    "![Apache Jena Fuseki Dashboard](images/apache-jena-fuseki-dashboard.png)\n"
   ],
   "id": "e93acc8a196eb624"
  },
  {
   "metadata": {},
   "cell_type": "markdown",
   "source": [
    "The JSON input data represents devices, sensors, actuators, and events in a smart environment.\n",
    "\n",
    "This data represents interactions between these entities and will be processed to generate RDF."
   ],
   "id": "a1b8577d-613a-446b-9208-97f53e2589e8"
  },
  {
   "metadata": {},
   "cell_type": "code",
   "outputs": [],
   "execution_count": 3,
   "source": [
    "import random\n",
    "import uuid\n",
    "import json\n",
    "from datetime import datetime, timedelta"
   ],
   "id": "b1c50b90-4aad-4097-9390-5004a82479e7"
  },
  {
   "metadata": {},
   "cell_type": "code",
   "outputs": [],
   "execution_count": 4,
   "source": [
    "# Define the JSON input\n",
    "json_input = {\n",
    "    \"dataModel\": \"source_a\",  # Data model identifier\n",
    "    \"jsonData\": {\n",
    "        \"devices\": [\n",
    "            {\n",
    "                \"id\": \"dev_001\",  # Device identifier\n",
    "                \"name\": \"Primary Device\",  # Device name\n",
    "                \"serialNumber\": \"SN123456\",  # Serial number of the device\n",
    "                \"owner\": \"usr_001\"  # Owner identifier of the device\n",
    "            }\n",
    "        ],\n",
    "        \"actuators\": [\n",
    "            {\n",
    "                \"id\": \"act_001\",  # Actuator identifier\n",
    "                \"deviceId\": \"dev_001\"  # Associated device identifier\n",
    "            }\n",
    "        ],\n",
    "        \"uiDevices\": [\n",
    "            {\n",
    "                \"id\": \"ui_001\",  # UI Device identifier\n",
    "                \"sensorId\": \"sens_001\",  # Associated sensor identifier\n",
    "                \"actuatorId\": \"act_001\",  # Associated actuator identifier\n",
    "                \"deviceId\": \"dev_001\"  # Associated device identifier\n",
    "            }\n",
    "        ],\n",
    "        \"sensors\": [\n",
    "            {\n",
    "                \"id\": \"sens_001\",  # Sensor identifier\n",
    "                \"type\": \"TEMPERATURE\",  # Sensor type\n",
    "                \"location\": \"Living Room\",  # Sensor location\n",
    "                \"threshold\": 35.0,  # Threshold for sensor values\n",
    "                \"deviceId\": \"dev_001\"  # Associated device identifier\n",
    "            }\n",
    "        ],\n",
    "        \"events\": [\n",
    "            {\n",
    "                \"timestamp\": \"2021-09-29T11:19:11.788Z\",  # Event timestamp\n",
    "                \"id\": \"evt_001\",  # Event identifier\n",
    "                \"userId\": \"usr_002\",  # User associated with the event\n",
    "                \"assetId\": \"asset_001\",  # Associated asset\n",
    "                \"dimension\": \"VALUE\",  # Event dimension (e.g., temperature)\n",
    "                \"value\": 28.7,  # Event value (e.g., sensor reading)\n",
    "                \"originId\": \"sens_001\",  # Originating sensor\n",
    "                \"originType\": \"TEMPERATURE\"  # Type of originating sensor\n",
    "            },\n",
    "            {\n",
    "                \"timestamp\": \"2024-06-01T00:00:00.000Z\",  # Event timestamp\n",
    "                \"id\": \"evt_002\",  # Event identifier\n",
    "                \"userId\": \"usr_003\",  # User associated with the event\n",
    "                \"assetId\": \"asset_002\",  # Associated asset\n",
    "                \"dimension\": \"VALUE\",  # Event dimension (e.g., humidity)\n",
    "                \"value\": 38.24,  # Event value (e.g., sensor reading)\n",
    "                \"originId\": \"sens_002\",  # Originating sensor\n",
    "                \"originType\": \"HUMIDITY\"  # Type of originating sensor\n",
    "            }\n",
    "        ]\n",
    "    }\n",
    "}"
   ],
   "id": "2a7d6ccc76c69895"
  },
  {
   "metadata": {},
   "cell_type": "markdown",
   "source": "Generate random data for demonstration purposes.",
   "id": "84ce73b5d5163e70"
  },
  {
   "metadata": {},
   "cell_type": "code",
   "outputs": [
    {
     "name": "stdout",
     "output_type": "stream",
     "text": [
      "Generated data saved to generated_data.json\n"
     ]
    }
   ],
   "execution_count": 6,
   "source": [
    "# Base JSON input\n",
    "json_input = {\n",
    "    \"dataModel\": \"source_a\",\n",
    "    \"jsonData\": {\n",
    "        \"devices\": [],\n",
    "        \"actuators\": [],\n",
    "        \"uiDevices\": [],\n",
    "        \"sensors\": [],\n",
    "        \"events\": []\n",
    "    }\n",
    "}\n",
    "\n",
    "# Utility functions to generate random data\n",
    "def random_date(start, end):\n",
    "    delta = end - start\n",
    "    random_days = random.randint(0, delta.days)\n",
    "    random_seconds = random.randint(0, 86400)\n",
    "    return (start + timedelta(days=random_days, seconds=random_seconds)).isoformat() + \"Z\"\n",
    "\n",
    "def generate_devices(count):\n",
    "    devices = []\n",
    "    for _ in range(count):\n",
    "        device_id = f\"dev_{uuid.uuid4().hex[:8]}\"\n",
    "        devices.append({\n",
    "            \"id\": device_id,\n",
    "            \"name\": f\"Device {uuid.uuid4().hex[:4]}\",\n",
    "            \"serialNumber\": f\"SN{random.randint(100000, 999999)}\",\n",
    "            \"owner\": f\"usr_{random.randint(1, 100)}\"\n",
    "        })\n",
    "    return devices\n",
    "\n",
    "def generate_sensors(devices, count):\n",
    "    sensor_types = [\"TEMPERATURE\", \"HUMIDITY\"]\n",
    "    sensors = []\n",
    "    for _ in range(count):\n",
    "        device = random.choice(devices)\n",
    "        sensors.append({\n",
    "            \"id\": f\"sens_{uuid.uuid4().hex[:8]}\",\n",
    "            \"type\": random.choice(sensor_types),\n",
    "            \"location\": f\"Location {random.randint(1, 10)}\",\n",
    "            \"threshold\": round(random.uniform(10.0, 50.0), 2),\n",
    "            \"deviceId\": device[\"id\"]\n",
    "        })\n",
    "    return sensors\n",
    "\n",
    "def generate_actuators(devices, count):\n",
    "    actuators = []\n",
    "    for _ in range(count):\n",
    "        device = random.choice(devices)\n",
    "        actuators.append({\n",
    "            \"id\": f\"act_{uuid.uuid4().hex[:8]}\",\n",
    "            \"deviceId\": device[\"id\"]\n",
    "        })\n",
    "    return actuators\n",
    "\n",
    "def generate_ui_devices(sensors, actuators, devices, count):\n",
    "    ui_devices = []\n",
    "    for _ in range(count):\n",
    "        sensor = random.choice(sensors)\n",
    "        actuator = random.choice(actuators)\n",
    "        device = random.choice(devices)\n",
    "        ui_devices.append({\n",
    "            \"id\": f\"ui_{uuid.uuid4().hex[:8]}\",\n",
    "            \"sensorId\": sensor[\"id\"],\n",
    "            \"actuatorId\": actuator[\"id\"],\n",
    "            \"deviceId\": device[\"id\"]\n",
    "        })\n",
    "    return ui_devices\n",
    "\n",
    "def generate_events(sensors, count):\n",
    "    events = []\n",
    "    for _ in range(count):\n",
    "        sensor = random.choice(sensors)\n",
    "        events.append({\n",
    "            \"timestamp\": random_date(datetime(2020, 1, 1), datetime(2024, 12, 31)),\n",
    "            \"id\": f\"evt_{uuid.uuid4().hex[:8]}\",\n",
    "            \"userId\": f\"usr_{random.randint(1, 100)}\",\n",
    "            \"assetId\": f\"asset_{uuid.uuid4().hex[:8]}\",\n",
    "            \"dimension\": \"VALUE\",\n",
    "            \"value\": round(random.uniform(0.0, 100.0), 2),\n",
    "            \"originId\": sensor[\"id\"],\n",
    "            \"originType\": sensor[\"type\"]\n",
    "        })\n",
    "    return events\n",
    "\n",
    "# Generate thousands of records\n",
    "def generate_records():\n",
    "    devices = generate_devices(500)\n",
    "    sensors = generate_sensors(devices, 1000)\n",
    "    actuators = generate_actuators(devices, 500)\n",
    "    ui_devices = generate_ui_devices(sensors, actuators, devices, 500)\n",
    "    events = generate_events(sensors, 30000)\n",
    "\n",
    "    json_input[\"jsonData\"][\"devices\"] = devices\n",
    "    json_input[\"jsonData\"][\"sensors\"] = sensors\n",
    "    json_input[\"jsonData\"][\"actuators\"] = actuators\n",
    "    json_input[\"jsonData\"][\"uiDevices\"] = ui_devices\n",
    "    json_input[\"jsonData\"][\"events\"] = events\n",
    "\n",
    "    return json_input\n",
    "\n",
    "json_input = generate_records()\n",
    "with open(\"generated_data.json\", \"w\") as file:\n",
    "    json.dump(json_input, file, indent=4)\n",
    "print(\"Generated data saved to generated_data.json\")"
   ],
   "id": "42f9fc95-3b63-4eb0-be1a-d645145f97aa"
  },
  {
   "metadata": {},
   "cell_type": "code",
   "outputs": [],
   "execution_count": null,
   "source": [
    "# Call the external API for RDF generation\n",
    "def generate_rdf(json_data):\n",
    "    \"\"\"\n",
    "    Send JSON input to the external RML API and receive RDF in turtle format.\n",
    "    \"\"\"\n",
    "    response = requests.post(API_URL, json=json_data)\n",
    "    if response.status_code == 200:\n",
    "        # Save RDF to file\n",
    "        with open(RDF_OUTPUT_FILE, \"w\") as rdf_file:\n",
    "            rdf_file.write(response.text)\n",
    "        print(\"RDF generation successful. Saved to:\", RDF_OUTPUT_FILE)\n",
    "    else:\n",
    "        print(\"RDF generation failed with status code:\", response.status_code)\n",
    "        response.raise_for_status()\n",
    "\n",
    "generate_rdf(json_input)"
   ],
   "id": "68e014d74d5c285"
  },
  {
   "cell_type": "code",
   "id": "6216d76d-28d0-48fe-8acb-c7d348123591",
   "metadata": {
    "ExecuteTime": {
     "end_time": "2024-12-15T18:00:15.625865Z",
     "start_time": "2024-12-15T18:00:15.603742Z"
    }
   },
   "source": [
    "# Call the Apache Jena API for SPARQL execution\n",
    "def execute_sparql_query(sparql_query):\n",
    "    \"\"\"\n",
    "    Send SPARQL query to the Apache Jena API at localhost:3030 and receive results.\n",
    "    \"\"\"\n",
    "    API_URL = \"http://fuseki:3030/dataset/sparql\"\n",
    "    headers = {\"Content-Type\": \"application/sparql-query\"}\n",
    "\n",
    "    response = requests.post(API_URL, data=sparql_query, headers=headers)\n",
    "\n",
    "    if response.status_code == 200:\n",
    "        # Save results to file\n",
    "        with open(SPARQL_OUTPUT_FILE, \"w\") as rdf_file:\n",
    "            rdf_file.write(response.text)\n",
    "        print(\"SPARQL query execution successful. Results saved to:\", SPARQL_OUTPUT_FILE)\n",
    "    else:\n",
    "        print(\"SPARQL query execution failed with status code:\", response.status_code)\n",
    "        response.raise_for_status()"
   ],
   "outputs": [],
   "execution_count": 7
  },
  {
   "cell_type": "code",
   "id": "d449c8b1-6954-4016-adf4-f4f4b8d16587",
   "metadata": {
    "ExecuteTime": {
     "end_time": "2024-12-15T18:00:26.976629Z",
     "start_time": "2024-12-15T18:00:22.432903Z"
    }
   },
   "source": [
    "sparql_query = \"\"\"\n",
    "PREFIX sosa: <http://www.w3.org/ns/sosa/>\n",
    "PREFIX fhir: <http://hl7.org/fhir/>\n",
    "PREFIX xsd: <http://www.w3.org/2001/XMLSchema#>\n",
    "PREFIX ucum: <http://unitsofmeasure.org/>\n",
    "\n",
    "SELECT ?observation ?sensor ?property ?result ?unit ?time\n",
    "WHERE {\n",
    "  ?observation a sosa:Observation ;\n",
    "               sosa:madeBySensor ?sensor ;\n",
    "               sosa:observedProperty ?property ;\n",
    "               sosa:hasSimpleResult ?result ;\n",
    "               sosa:resultTime ?time .\n",
    "  \n",
    "  OPTIONAL {\n",
    "    ?sensor sosa:hasSimpleResult ?unit .\n",
    "  }\n",
    "}\n",
    "\"\"\"\n",
    "\n",
    "execute_sparql_query(sparql_query)"
   ],
   "outputs": [
    {
     "ename": "ConnectionError",
     "evalue": "HTTPConnectionPool(host='fuseki', port=3030): Max retries exceeded with url: /dataset/sparql (Caused by NameResolutionError(\"<urllib3.connection.HTTPConnection object at 0x0000025F00C8E890>: Failed to resolve 'fuseki' ([Errno 11001] getaddrinfo failed)\"))",
     "output_type": "error",
     "traceback": [
      "\u001B[1;31m---------------------------------------------------------------------------\u001B[0m",
      "\u001B[1;31mgaierror\u001B[0m                                  Traceback (most recent call last)",
      "File \u001B[1;32m~\\anaconda3\\envs\\3-10-graph-learning-demo\\lib\\site-packages\\urllib3\\connection.py:199\u001B[0m, in \u001B[0;36mHTTPConnection._new_conn\u001B[1;34m(self)\u001B[0m\n\u001B[0;32m    198\u001B[0m \u001B[38;5;28;01mtry\u001B[39;00m:\n\u001B[1;32m--> 199\u001B[0m     sock \u001B[38;5;241m=\u001B[39m \u001B[43mconnection\u001B[49m\u001B[38;5;241;43m.\u001B[39;49m\u001B[43mcreate_connection\u001B[49m\u001B[43m(\u001B[49m\n\u001B[0;32m    200\u001B[0m \u001B[43m        \u001B[49m\u001B[43m(\u001B[49m\u001B[38;5;28;43mself\u001B[39;49m\u001B[38;5;241;43m.\u001B[39;49m\u001B[43m_dns_host\u001B[49m\u001B[43m,\u001B[49m\u001B[43m \u001B[49m\u001B[38;5;28;43mself\u001B[39;49m\u001B[38;5;241;43m.\u001B[39;49m\u001B[43mport\u001B[49m\u001B[43m)\u001B[49m\u001B[43m,\u001B[49m\n\u001B[0;32m    201\u001B[0m \u001B[43m        \u001B[49m\u001B[38;5;28;43mself\u001B[39;49m\u001B[38;5;241;43m.\u001B[39;49m\u001B[43mtimeout\u001B[49m\u001B[43m,\u001B[49m\n\u001B[0;32m    202\u001B[0m \u001B[43m        \u001B[49m\u001B[43msource_address\u001B[49m\u001B[38;5;241;43m=\u001B[39;49m\u001B[38;5;28;43mself\u001B[39;49m\u001B[38;5;241;43m.\u001B[39;49m\u001B[43msource_address\u001B[49m\u001B[43m,\u001B[49m\n\u001B[0;32m    203\u001B[0m \u001B[43m        \u001B[49m\u001B[43msocket_options\u001B[49m\u001B[38;5;241;43m=\u001B[39;49m\u001B[38;5;28;43mself\u001B[39;49m\u001B[38;5;241;43m.\u001B[39;49m\u001B[43msocket_options\u001B[49m\u001B[43m,\u001B[49m\n\u001B[0;32m    204\u001B[0m \u001B[43m    \u001B[49m\u001B[43m)\u001B[49m\n\u001B[0;32m    205\u001B[0m \u001B[38;5;28;01mexcept\u001B[39;00m socket\u001B[38;5;241m.\u001B[39mgaierror \u001B[38;5;28;01mas\u001B[39;00m e:\n",
      "File \u001B[1;32m~\\anaconda3\\envs\\3-10-graph-learning-demo\\lib\\site-packages\\urllib3\\util\\connection.py:60\u001B[0m, in \u001B[0;36mcreate_connection\u001B[1;34m(address, timeout, source_address, socket_options)\u001B[0m\n\u001B[0;32m     58\u001B[0m     \u001B[38;5;28;01mraise\u001B[39;00m LocationParseError(\u001B[38;5;124mf\u001B[39m\u001B[38;5;124m\"\u001B[39m\u001B[38;5;124m'\u001B[39m\u001B[38;5;132;01m{\u001B[39;00mhost\u001B[38;5;132;01m}\u001B[39;00m\u001B[38;5;124m'\u001B[39m\u001B[38;5;124m, label empty or too long\u001B[39m\u001B[38;5;124m\"\u001B[39m) \u001B[38;5;28;01mfrom\u001B[39;00m \u001B[38;5;28;01mNone\u001B[39;00m\n\u001B[1;32m---> 60\u001B[0m \u001B[38;5;28;01mfor\u001B[39;00m res \u001B[38;5;129;01min\u001B[39;00m \u001B[43msocket\u001B[49m\u001B[38;5;241;43m.\u001B[39;49m\u001B[43mgetaddrinfo\u001B[49m\u001B[43m(\u001B[49m\u001B[43mhost\u001B[49m\u001B[43m,\u001B[49m\u001B[43m \u001B[49m\u001B[43mport\u001B[49m\u001B[43m,\u001B[49m\u001B[43m \u001B[49m\u001B[43mfamily\u001B[49m\u001B[43m,\u001B[49m\u001B[43m \u001B[49m\u001B[43msocket\u001B[49m\u001B[38;5;241;43m.\u001B[39;49m\u001B[43mSOCK_STREAM\u001B[49m\u001B[43m)\u001B[49m:\n\u001B[0;32m     61\u001B[0m     af, socktype, proto, canonname, sa \u001B[38;5;241m=\u001B[39m res\n",
      "File \u001B[1;32m~\\anaconda3\\envs\\3-10-graph-learning-demo\\lib\\socket.py:967\u001B[0m, in \u001B[0;36mgetaddrinfo\u001B[1;34m(host, port, family, type, proto, flags)\u001B[0m\n\u001B[0;32m    966\u001B[0m addrlist \u001B[38;5;241m=\u001B[39m []\n\u001B[1;32m--> 967\u001B[0m \u001B[38;5;28;01mfor\u001B[39;00m res \u001B[38;5;129;01min\u001B[39;00m \u001B[43m_socket\u001B[49m\u001B[38;5;241;43m.\u001B[39;49m\u001B[43mgetaddrinfo\u001B[49m\u001B[43m(\u001B[49m\u001B[43mhost\u001B[49m\u001B[43m,\u001B[49m\u001B[43m \u001B[49m\u001B[43mport\u001B[49m\u001B[43m,\u001B[49m\u001B[43m \u001B[49m\u001B[43mfamily\u001B[49m\u001B[43m,\u001B[49m\u001B[43m \u001B[49m\u001B[38;5;28;43mtype\u001B[39;49m\u001B[43m,\u001B[49m\u001B[43m \u001B[49m\u001B[43mproto\u001B[49m\u001B[43m,\u001B[49m\u001B[43m \u001B[49m\u001B[43mflags\u001B[49m\u001B[43m)\u001B[49m:\n\u001B[0;32m    968\u001B[0m     af, socktype, proto, canonname, sa \u001B[38;5;241m=\u001B[39m res\n",
      "\u001B[1;31mgaierror\u001B[0m: [Errno 11001] getaddrinfo failed",
      "\nThe above exception was the direct cause of the following exception:\n",
      "\u001B[1;31mNameResolutionError\u001B[0m                       Traceback (most recent call last)",
      "File \u001B[1;32m~\\anaconda3\\envs\\3-10-graph-learning-demo\\lib\\site-packages\\urllib3\\connectionpool.py:789\u001B[0m, in \u001B[0;36mHTTPConnectionPool.urlopen\u001B[1;34m(self, method, url, body, headers, retries, redirect, assert_same_host, timeout, pool_timeout, release_conn, chunked, body_pos, preload_content, decode_content, **response_kw)\u001B[0m\n\u001B[0;32m    788\u001B[0m \u001B[38;5;66;03m# Make the request on the HTTPConnection object\u001B[39;00m\n\u001B[1;32m--> 789\u001B[0m response \u001B[38;5;241m=\u001B[39m \u001B[38;5;28mself\u001B[39m\u001B[38;5;241m.\u001B[39m_make_request(\n\u001B[0;32m    790\u001B[0m     conn,\n\u001B[0;32m    791\u001B[0m     method,\n\u001B[0;32m    792\u001B[0m     url,\n\u001B[0;32m    793\u001B[0m     timeout\u001B[38;5;241m=\u001B[39mtimeout_obj,\n\u001B[0;32m    794\u001B[0m     body\u001B[38;5;241m=\u001B[39mbody,\n\u001B[0;32m    795\u001B[0m     headers\u001B[38;5;241m=\u001B[39mheaders,\n\u001B[0;32m    796\u001B[0m     chunked\u001B[38;5;241m=\u001B[39mchunked,\n\u001B[0;32m    797\u001B[0m     retries\u001B[38;5;241m=\u001B[39mretries,\n\u001B[0;32m    798\u001B[0m     response_conn\u001B[38;5;241m=\u001B[39mresponse_conn,\n\u001B[0;32m    799\u001B[0m     preload_content\u001B[38;5;241m=\u001B[39mpreload_content,\n\u001B[0;32m    800\u001B[0m     decode_content\u001B[38;5;241m=\u001B[39mdecode_content,\n\u001B[0;32m    801\u001B[0m     \u001B[38;5;241m*\u001B[39m\u001B[38;5;241m*\u001B[39mresponse_kw,\n\u001B[0;32m    802\u001B[0m )\n\u001B[0;32m    804\u001B[0m \u001B[38;5;66;03m# Everything went great!\u001B[39;00m\n",
      "File \u001B[1;32m~\\anaconda3\\envs\\3-10-graph-learning-demo\\lib\\site-packages\\urllib3\\connectionpool.py:495\u001B[0m, in \u001B[0;36mHTTPConnectionPool._make_request\u001B[1;34m(self, conn, method, url, body, headers, retries, timeout, chunked, response_conn, preload_content, decode_content, enforce_content_length)\u001B[0m\n\u001B[0;32m    494\u001B[0m \u001B[38;5;28;01mtry\u001B[39;00m:\n\u001B[1;32m--> 495\u001B[0m     \u001B[43mconn\u001B[49m\u001B[38;5;241;43m.\u001B[39;49m\u001B[43mrequest\u001B[49m\u001B[43m(\u001B[49m\n\u001B[0;32m    496\u001B[0m \u001B[43m        \u001B[49m\u001B[43mmethod\u001B[49m\u001B[43m,\u001B[49m\n\u001B[0;32m    497\u001B[0m \u001B[43m        \u001B[49m\u001B[43murl\u001B[49m\u001B[43m,\u001B[49m\n\u001B[0;32m    498\u001B[0m \u001B[43m        \u001B[49m\u001B[43mbody\u001B[49m\u001B[38;5;241;43m=\u001B[39;49m\u001B[43mbody\u001B[49m\u001B[43m,\u001B[49m\n\u001B[0;32m    499\u001B[0m \u001B[43m        \u001B[49m\u001B[43mheaders\u001B[49m\u001B[38;5;241;43m=\u001B[39;49m\u001B[43mheaders\u001B[49m\u001B[43m,\u001B[49m\n\u001B[0;32m    500\u001B[0m \u001B[43m        \u001B[49m\u001B[43mchunked\u001B[49m\u001B[38;5;241;43m=\u001B[39;49m\u001B[43mchunked\u001B[49m\u001B[43m,\u001B[49m\n\u001B[0;32m    501\u001B[0m \u001B[43m        \u001B[49m\u001B[43mpreload_content\u001B[49m\u001B[38;5;241;43m=\u001B[39;49m\u001B[43mpreload_content\u001B[49m\u001B[43m,\u001B[49m\n\u001B[0;32m    502\u001B[0m \u001B[43m        \u001B[49m\u001B[43mdecode_content\u001B[49m\u001B[38;5;241;43m=\u001B[39;49m\u001B[43mdecode_content\u001B[49m\u001B[43m,\u001B[49m\n\u001B[0;32m    503\u001B[0m \u001B[43m        \u001B[49m\u001B[43menforce_content_length\u001B[49m\u001B[38;5;241;43m=\u001B[39;49m\u001B[43menforce_content_length\u001B[49m\u001B[43m,\u001B[49m\n\u001B[0;32m    504\u001B[0m \u001B[43m    \u001B[49m\u001B[43m)\u001B[49m\n\u001B[0;32m    506\u001B[0m \u001B[38;5;66;03m# We are swallowing BrokenPipeError (errno.EPIPE) since the server is\u001B[39;00m\n\u001B[0;32m    507\u001B[0m \u001B[38;5;66;03m# legitimately able to close the connection after sending a valid response.\u001B[39;00m\n\u001B[0;32m    508\u001B[0m \u001B[38;5;66;03m# With this behaviour, the received response is still readable.\u001B[39;00m\n",
      "File \u001B[1;32m~\\anaconda3\\envs\\3-10-graph-learning-demo\\lib\\site-packages\\urllib3\\connection.py:441\u001B[0m, in \u001B[0;36mHTTPConnection.request\u001B[1;34m(self, method, url, body, headers, chunked, preload_content, decode_content, enforce_content_length)\u001B[0m\n\u001B[0;32m    440\u001B[0m     \u001B[38;5;28mself\u001B[39m\u001B[38;5;241m.\u001B[39mputheader(header, value)\n\u001B[1;32m--> 441\u001B[0m \u001B[38;5;28;43mself\u001B[39;49m\u001B[38;5;241;43m.\u001B[39;49m\u001B[43mendheaders\u001B[49m\u001B[43m(\u001B[49m\u001B[43m)\u001B[49m\n\u001B[0;32m    443\u001B[0m \u001B[38;5;66;03m# If we're given a body we start sending that in chunks.\u001B[39;00m\n",
      "File \u001B[1;32m~\\anaconda3\\envs\\3-10-graph-learning-demo\\lib\\http\\client.py:1278\u001B[0m, in \u001B[0;36mHTTPConnection.endheaders\u001B[1;34m(self, message_body, encode_chunked)\u001B[0m\n\u001B[0;32m   1277\u001B[0m     \u001B[38;5;28;01mraise\u001B[39;00m CannotSendHeader()\n\u001B[1;32m-> 1278\u001B[0m \u001B[38;5;28;43mself\u001B[39;49m\u001B[38;5;241;43m.\u001B[39;49m\u001B[43m_send_output\u001B[49m\u001B[43m(\u001B[49m\u001B[43mmessage_body\u001B[49m\u001B[43m,\u001B[49m\u001B[43m \u001B[49m\u001B[43mencode_chunked\u001B[49m\u001B[38;5;241;43m=\u001B[39;49m\u001B[43mencode_chunked\u001B[49m\u001B[43m)\u001B[49m\n",
      "File \u001B[1;32m~\\anaconda3\\envs\\3-10-graph-learning-demo\\lib\\http\\client.py:1038\u001B[0m, in \u001B[0;36mHTTPConnection._send_output\u001B[1;34m(self, message_body, encode_chunked)\u001B[0m\n\u001B[0;32m   1037\u001B[0m \u001B[38;5;28;01mdel\u001B[39;00m \u001B[38;5;28mself\u001B[39m\u001B[38;5;241m.\u001B[39m_buffer[:]\n\u001B[1;32m-> 1038\u001B[0m \u001B[38;5;28;43mself\u001B[39;49m\u001B[38;5;241;43m.\u001B[39;49m\u001B[43msend\u001B[49m\u001B[43m(\u001B[49m\u001B[43mmsg\u001B[49m\u001B[43m)\u001B[49m\n\u001B[0;32m   1040\u001B[0m \u001B[38;5;28;01mif\u001B[39;00m message_body \u001B[38;5;129;01mis\u001B[39;00m \u001B[38;5;129;01mnot\u001B[39;00m \u001B[38;5;28;01mNone\u001B[39;00m:\n\u001B[0;32m   1041\u001B[0m \n\u001B[0;32m   1042\u001B[0m     \u001B[38;5;66;03m# create a consistent interface to message_body\u001B[39;00m\n",
      "File \u001B[1;32m~\\anaconda3\\envs\\3-10-graph-learning-demo\\lib\\http\\client.py:976\u001B[0m, in \u001B[0;36mHTTPConnection.send\u001B[1;34m(self, data)\u001B[0m\n\u001B[0;32m    975\u001B[0m \u001B[38;5;28;01mif\u001B[39;00m \u001B[38;5;28mself\u001B[39m\u001B[38;5;241m.\u001B[39mauto_open:\n\u001B[1;32m--> 976\u001B[0m     \u001B[38;5;28;43mself\u001B[39;49m\u001B[38;5;241;43m.\u001B[39;49m\u001B[43mconnect\u001B[49m\u001B[43m(\u001B[49m\u001B[43m)\u001B[49m\n\u001B[0;32m    977\u001B[0m \u001B[38;5;28;01melse\u001B[39;00m:\n",
      "File \u001B[1;32m~\\anaconda3\\envs\\3-10-graph-learning-demo\\lib\\site-packages\\urllib3\\connection.py:279\u001B[0m, in \u001B[0;36mHTTPConnection.connect\u001B[1;34m(self)\u001B[0m\n\u001B[0;32m    278\u001B[0m \u001B[38;5;28;01mdef\u001B[39;00m \u001B[38;5;21mconnect\u001B[39m(\u001B[38;5;28mself\u001B[39m) \u001B[38;5;241m-\u001B[39m\u001B[38;5;241m>\u001B[39m \u001B[38;5;28;01mNone\u001B[39;00m:\n\u001B[1;32m--> 279\u001B[0m     \u001B[38;5;28mself\u001B[39m\u001B[38;5;241m.\u001B[39msock \u001B[38;5;241m=\u001B[39m \u001B[38;5;28;43mself\u001B[39;49m\u001B[38;5;241;43m.\u001B[39;49m\u001B[43m_new_conn\u001B[49m\u001B[43m(\u001B[49m\u001B[43m)\u001B[49m\n\u001B[0;32m    280\u001B[0m     \u001B[38;5;28;01mif\u001B[39;00m \u001B[38;5;28mself\u001B[39m\u001B[38;5;241m.\u001B[39m_tunnel_host:\n\u001B[0;32m    281\u001B[0m         \u001B[38;5;66;03m# If we're tunneling it means we're connected to our proxy.\u001B[39;00m\n",
      "File \u001B[1;32m~\\anaconda3\\envs\\3-10-graph-learning-demo\\lib\\site-packages\\urllib3\\connection.py:206\u001B[0m, in \u001B[0;36mHTTPConnection._new_conn\u001B[1;34m(self)\u001B[0m\n\u001B[0;32m    205\u001B[0m \u001B[38;5;28;01mexcept\u001B[39;00m socket\u001B[38;5;241m.\u001B[39mgaierror \u001B[38;5;28;01mas\u001B[39;00m e:\n\u001B[1;32m--> 206\u001B[0m     \u001B[38;5;28;01mraise\u001B[39;00m NameResolutionError(\u001B[38;5;28mself\u001B[39m\u001B[38;5;241m.\u001B[39mhost, \u001B[38;5;28mself\u001B[39m, e) \u001B[38;5;28;01mfrom\u001B[39;00m \u001B[38;5;21;01me\u001B[39;00m\n\u001B[0;32m    207\u001B[0m \u001B[38;5;28;01mexcept\u001B[39;00m SocketTimeout \u001B[38;5;28;01mas\u001B[39;00m e:\n",
      "\u001B[1;31mNameResolutionError\u001B[0m: <urllib3.connection.HTTPConnection object at 0x0000025F00C8E890>: Failed to resolve 'fuseki' ([Errno 11001] getaddrinfo failed)",
      "\nThe above exception was the direct cause of the following exception:\n",
      "\u001B[1;31mMaxRetryError\u001B[0m                             Traceback (most recent call last)",
      "File \u001B[1;32m~\\anaconda3\\envs\\3-10-graph-learning-demo\\lib\\site-packages\\requests\\adapters.py:667\u001B[0m, in \u001B[0;36mHTTPAdapter.send\u001B[1;34m(self, request, stream, timeout, verify, cert, proxies)\u001B[0m\n\u001B[0;32m    666\u001B[0m \u001B[38;5;28;01mtry\u001B[39;00m:\n\u001B[1;32m--> 667\u001B[0m     resp \u001B[38;5;241m=\u001B[39m \u001B[43mconn\u001B[49m\u001B[38;5;241;43m.\u001B[39;49m\u001B[43murlopen\u001B[49m\u001B[43m(\u001B[49m\n\u001B[0;32m    668\u001B[0m \u001B[43m        \u001B[49m\u001B[43mmethod\u001B[49m\u001B[38;5;241;43m=\u001B[39;49m\u001B[43mrequest\u001B[49m\u001B[38;5;241;43m.\u001B[39;49m\u001B[43mmethod\u001B[49m\u001B[43m,\u001B[49m\n\u001B[0;32m    669\u001B[0m \u001B[43m        \u001B[49m\u001B[43murl\u001B[49m\u001B[38;5;241;43m=\u001B[39;49m\u001B[43murl\u001B[49m\u001B[43m,\u001B[49m\n\u001B[0;32m    670\u001B[0m \u001B[43m        \u001B[49m\u001B[43mbody\u001B[49m\u001B[38;5;241;43m=\u001B[39;49m\u001B[43mrequest\u001B[49m\u001B[38;5;241;43m.\u001B[39;49m\u001B[43mbody\u001B[49m\u001B[43m,\u001B[49m\n\u001B[0;32m    671\u001B[0m \u001B[43m        \u001B[49m\u001B[43mheaders\u001B[49m\u001B[38;5;241;43m=\u001B[39;49m\u001B[43mrequest\u001B[49m\u001B[38;5;241;43m.\u001B[39;49m\u001B[43mheaders\u001B[49m\u001B[43m,\u001B[49m\n\u001B[0;32m    672\u001B[0m \u001B[43m        \u001B[49m\u001B[43mredirect\u001B[49m\u001B[38;5;241;43m=\u001B[39;49m\u001B[38;5;28;43;01mFalse\u001B[39;49;00m\u001B[43m,\u001B[49m\n\u001B[0;32m    673\u001B[0m \u001B[43m        \u001B[49m\u001B[43massert_same_host\u001B[49m\u001B[38;5;241;43m=\u001B[39;49m\u001B[38;5;28;43;01mFalse\u001B[39;49;00m\u001B[43m,\u001B[49m\n\u001B[0;32m    674\u001B[0m \u001B[43m        \u001B[49m\u001B[43mpreload_content\u001B[49m\u001B[38;5;241;43m=\u001B[39;49m\u001B[38;5;28;43;01mFalse\u001B[39;49;00m\u001B[43m,\u001B[49m\n\u001B[0;32m    675\u001B[0m \u001B[43m        \u001B[49m\u001B[43mdecode_content\u001B[49m\u001B[38;5;241;43m=\u001B[39;49m\u001B[38;5;28;43;01mFalse\u001B[39;49;00m\u001B[43m,\u001B[49m\n\u001B[0;32m    676\u001B[0m \u001B[43m        \u001B[49m\u001B[43mretries\u001B[49m\u001B[38;5;241;43m=\u001B[39;49m\u001B[38;5;28;43mself\u001B[39;49m\u001B[38;5;241;43m.\u001B[39;49m\u001B[43mmax_retries\u001B[49m\u001B[43m,\u001B[49m\n\u001B[0;32m    677\u001B[0m \u001B[43m        \u001B[49m\u001B[43mtimeout\u001B[49m\u001B[38;5;241;43m=\u001B[39;49m\u001B[43mtimeout\u001B[49m\u001B[43m,\u001B[49m\n\u001B[0;32m    678\u001B[0m \u001B[43m        \u001B[49m\u001B[43mchunked\u001B[49m\u001B[38;5;241;43m=\u001B[39;49m\u001B[43mchunked\u001B[49m\u001B[43m,\u001B[49m\n\u001B[0;32m    679\u001B[0m \u001B[43m    \u001B[49m\u001B[43m)\u001B[49m\n\u001B[0;32m    681\u001B[0m \u001B[38;5;28;01mexcept\u001B[39;00m (ProtocolError, \u001B[38;5;167;01mOSError\u001B[39;00m) \u001B[38;5;28;01mas\u001B[39;00m err:\n",
      "File \u001B[1;32m~\\anaconda3\\envs\\3-10-graph-learning-demo\\lib\\site-packages\\urllib3\\connectionpool.py:843\u001B[0m, in \u001B[0;36mHTTPConnectionPool.urlopen\u001B[1;34m(self, method, url, body, headers, retries, redirect, assert_same_host, timeout, pool_timeout, release_conn, chunked, body_pos, preload_content, decode_content, **response_kw)\u001B[0m\n\u001B[0;32m    841\u001B[0m     new_e \u001B[38;5;241m=\u001B[39m ProtocolError(\u001B[38;5;124m\"\u001B[39m\u001B[38;5;124mConnection aborted.\u001B[39m\u001B[38;5;124m\"\u001B[39m, new_e)\n\u001B[1;32m--> 843\u001B[0m retries \u001B[38;5;241m=\u001B[39m \u001B[43mretries\u001B[49m\u001B[38;5;241;43m.\u001B[39;49m\u001B[43mincrement\u001B[49m\u001B[43m(\u001B[49m\n\u001B[0;32m    844\u001B[0m \u001B[43m    \u001B[49m\u001B[43mmethod\u001B[49m\u001B[43m,\u001B[49m\u001B[43m \u001B[49m\u001B[43murl\u001B[49m\u001B[43m,\u001B[49m\u001B[43m \u001B[49m\u001B[43merror\u001B[49m\u001B[38;5;241;43m=\u001B[39;49m\u001B[43mnew_e\u001B[49m\u001B[43m,\u001B[49m\u001B[43m \u001B[49m\u001B[43m_pool\u001B[49m\u001B[38;5;241;43m=\u001B[39;49m\u001B[38;5;28;43mself\u001B[39;49m\u001B[43m,\u001B[49m\u001B[43m \u001B[49m\u001B[43m_stacktrace\u001B[49m\u001B[38;5;241;43m=\u001B[39;49m\u001B[43msys\u001B[49m\u001B[38;5;241;43m.\u001B[39;49m\u001B[43mexc_info\u001B[49m\u001B[43m(\u001B[49m\u001B[43m)\u001B[49m\u001B[43m[\u001B[49m\u001B[38;5;241;43m2\u001B[39;49m\u001B[43m]\u001B[49m\n\u001B[0;32m    845\u001B[0m \u001B[43m\u001B[49m\u001B[43m)\u001B[49m\n\u001B[0;32m    846\u001B[0m retries\u001B[38;5;241m.\u001B[39msleep()\n",
      "File \u001B[1;32m~\\anaconda3\\envs\\3-10-graph-learning-demo\\lib\\site-packages\\urllib3\\util\\retry.py:519\u001B[0m, in \u001B[0;36mRetry.increment\u001B[1;34m(self, method, url, response, error, _pool, _stacktrace)\u001B[0m\n\u001B[0;32m    518\u001B[0m     reason \u001B[38;5;241m=\u001B[39m error \u001B[38;5;129;01mor\u001B[39;00m ResponseError(cause)\n\u001B[1;32m--> 519\u001B[0m     \u001B[38;5;28;01mraise\u001B[39;00m MaxRetryError(_pool, url, reason) \u001B[38;5;28;01mfrom\u001B[39;00m \u001B[38;5;21;01mreason\u001B[39;00m  \u001B[38;5;66;03m# type: ignore[arg-type]\u001B[39;00m\n\u001B[0;32m    521\u001B[0m log\u001B[38;5;241m.\u001B[39mdebug(\u001B[38;5;124m\"\u001B[39m\u001B[38;5;124mIncremented Retry for (url=\u001B[39m\u001B[38;5;124m'\u001B[39m\u001B[38;5;132;01m%s\u001B[39;00m\u001B[38;5;124m'\u001B[39m\u001B[38;5;124m): \u001B[39m\u001B[38;5;132;01m%r\u001B[39;00m\u001B[38;5;124m\"\u001B[39m, url, new_retry)\n",
      "\u001B[1;31mMaxRetryError\u001B[0m: HTTPConnectionPool(host='fuseki', port=3030): Max retries exceeded with url: /dataset/sparql (Caused by NameResolutionError(\"<urllib3.connection.HTTPConnection object at 0x0000025F00C8E890>: Failed to resolve 'fuseki' ([Errno 11001] getaddrinfo failed)\"))",
      "\nDuring handling of the above exception, another exception occurred:\n",
      "\u001B[1;31mConnectionError\u001B[0m                           Traceback (most recent call last)",
      "Cell \u001B[1;32mIn[8], line 21\u001B[0m\n\u001B[0;32m      1\u001B[0m sparql_query \u001B[38;5;241m=\u001B[39m \u001B[38;5;124m\"\"\"\u001B[39m\n\u001B[0;32m      2\u001B[0m \u001B[38;5;124mPREFIX sosa: <http://www.w3.org/ns/sosa/>\u001B[39m\n\u001B[0;32m      3\u001B[0m \u001B[38;5;124mPREFIX fhir: <http://hl7.org/fhir/>\u001B[39m\n\u001B[1;32m   (...)\u001B[0m\n\u001B[0;32m     18\u001B[0m \u001B[38;5;124m}\u001B[39m\n\u001B[0;32m     19\u001B[0m \u001B[38;5;124m\"\"\"\u001B[39m\n\u001B[1;32m---> 21\u001B[0m \u001B[43mexecute_sparql_query\u001B[49m\u001B[43m(\u001B[49m\u001B[43msparql_query\u001B[49m\u001B[43m)\u001B[49m\n",
      "Cell \u001B[1;32mIn[7], line 9\u001B[0m, in \u001B[0;36mexecute_sparql_query\u001B[1;34m(sparql_query)\u001B[0m\n\u001B[0;32m      6\u001B[0m API_URL \u001B[38;5;241m=\u001B[39m \u001B[38;5;124m\"\u001B[39m\u001B[38;5;124mhttp://fuseki:3030/dataset/sparql\u001B[39m\u001B[38;5;124m\"\u001B[39m\n\u001B[0;32m      7\u001B[0m headers \u001B[38;5;241m=\u001B[39m {\u001B[38;5;124m\"\u001B[39m\u001B[38;5;124mContent-Type\u001B[39m\u001B[38;5;124m\"\u001B[39m: \u001B[38;5;124m\"\u001B[39m\u001B[38;5;124mapplication/sparql-query\u001B[39m\u001B[38;5;124m\"\u001B[39m}\n\u001B[1;32m----> 9\u001B[0m response \u001B[38;5;241m=\u001B[39m \u001B[43mrequests\u001B[49m\u001B[38;5;241;43m.\u001B[39;49m\u001B[43mpost\u001B[49m\u001B[43m(\u001B[49m\u001B[43mAPI_URL\u001B[49m\u001B[43m,\u001B[49m\u001B[43m \u001B[49m\u001B[43mdata\u001B[49m\u001B[38;5;241;43m=\u001B[39;49m\u001B[43msparql_query\u001B[49m\u001B[43m,\u001B[49m\u001B[43m \u001B[49m\u001B[43mheaders\u001B[49m\u001B[38;5;241;43m=\u001B[39;49m\u001B[43mheaders\u001B[49m\u001B[43m)\u001B[49m\n\u001B[0;32m     11\u001B[0m \u001B[38;5;28;01mif\u001B[39;00m response\u001B[38;5;241m.\u001B[39mstatus_code \u001B[38;5;241m==\u001B[39m \u001B[38;5;241m200\u001B[39m:\n\u001B[0;32m     12\u001B[0m     \u001B[38;5;66;03m# Save results to file\u001B[39;00m\n\u001B[0;32m     13\u001B[0m     \u001B[38;5;28;01mwith\u001B[39;00m \u001B[38;5;28mopen\u001B[39m(SPARQL_OUTPUT_FILE, \u001B[38;5;124m\"\u001B[39m\u001B[38;5;124mw\u001B[39m\u001B[38;5;124m\"\u001B[39m) \u001B[38;5;28;01mas\u001B[39;00m rdf_file:\n",
      "File \u001B[1;32m~\\anaconda3\\envs\\3-10-graph-learning-demo\\lib\\site-packages\\requests\\api.py:115\u001B[0m, in \u001B[0;36mpost\u001B[1;34m(url, data, json, **kwargs)\u001B[0m\n\u001B[0;32m    103\u001B[0m \u001B[38;5;28;01mdef\u001B[39;00m \u001B[38;5;21mpost\u001B[39m(url, data\u001B[38;5;241m=\u001B[39m\u001B[38;5;28;01mNone\u001B[39;00m, json\u001B[38;5;241m=\u001B[39m\u001B[38;5;28;01mNone\u001B[39;00m, \u001B[38;5;241m*\u001B[39m\u001B[38;5;241m*\u001B[39mkwargs):\n\u001B[0;32m    104\u001B[0m \u001B[38;5;250m    \u001B[39m\u001B[38;5;124mr\u001B[39m\u001B[38;5;124;03m\"\"\"Sends a POST request.\u001B[39;00m\n\u001B[0;32m    105\u001B[0m \n\u001B[0;32m    106\u001B[0m \u001B[38;5;124;03m    :param url: URL for the new :class:`Request` object.\u001B[39;00m\n\u001B[1;32m   (...)\u001B[0m\n\u001B[0;32m    112\u001B[0m \u001B[38;5;124;03m    :rtype: requests.Response\u001B[39;00m\n\u001B[0;32m    113\u001B[0m \u001B[38;5;124;03m    \"\"\"\u001B[39;00m\n\u001B[1;32m--> 115\u001B[0m     \u001B[38;5;28;01mreturn\u001B[39;00m request(\u001B[38;5;124m\"\u001B[39m\u001B[38;5;124mpost\u001B[39m\u001B[38;5;124m\"\u001B[39m, url, data\u001B[38;5;241m=\u001B[39mdata, json\u001B[38;5;241m=\u001B[39mjson, \u001B[38;5;241m*\u001B[39m\u001B[38;5;241m*\u001B[39mkwargs)\n",
      "File \u001B[1;32m~\\anaconda3\\envs\\3-10-graph-learning-demo\\lib\\site-packages\\requests\\api.py:59\u001B[0m, in \u001B[0;36mrequest\u001B[1;34m(method, url, **kwargs)\u001B[0m\n\u001B[0;32m     55\u001B[0m \u001B[38;5;66;03m# By using the 'with' statement we are sure the session is closed, thus we\u001B[39;00m\n\u001B[0;32m     56\u001B[0m \u001B[38;5;66;03m# avoid leaving sockets open which can trigger a ResourceWarning in some\u001B[39;00m\n\u001B[0;32m     57\u001B[0m \u001B[38;5;66;03m# cases, and look like a memory leak in others.\u001B[39;00m\n\u001B[0;32m     58\u001B[0m \u001B[38;5;28;01mwith\u001B[39;00m sessions\u001B[38;5;241m.\u001B[39mSession() \u001B[38;5;28;01mas\u001B[39;00m session:\n\u001B[1;32m---> 59\u001B[0m     \u001B[38;5;28;01mreturn\u001B[39;00m session\u001B[38;5;241m.\u001B[39mrequest(method\u001B[38;5;241m=\u001B[39mmethod, url\u001B[38;5;241m=\u001B[39murl, \u001B[38;5;241m*\u001B[39m\u001B[38;5;241m*\u001B[39mkwargs)\n",
      "File \u001B[1;32m~\\anaconda3\\envs\\3-10-graph-learning-demo\\lib\\site-packages\\requests\\sessions.py:589\u001B[0m, in \u001B[0;36mSession.request\u001B[1;34m(self, method, url, params, data, headers, cookies, files, auth, timeout, allow_redirects, proxies, hooks, stream, verify, cert, json)\u001B[0m\n\u001B[0;32m    584\u001B[0m send_kwargs \u001B[38;5;241m=\u001B[39m {\n\u001B[0;32m    585\u001B[0m     \u001B[38;5;124m\"\u001B[39m\u001B[38;5;124mtimeout\u001B[39m\u001B[38;5;124m\"\u001B[39m: timeout,\n\u001B[0;32m    586\u001B[0m     \u001B[38;5;124m\"\u001B[39m\u001B[38;5;124mallow_redirects\u001B[39m\u001B[38;5;124m\"\u001B[39m: allow_redirects,\n\u001B[0;32m    587\u001B[0m }\n\u001B[0;32m    588\u001B[0m send_kwargs\u001B[38;5;241m.\u001B[39mupdate(settings)\n\u001B[1;32m--> 589\u001B[0m resp \u001B[38;5;241m=\u001B[39m \u001B[38;5;28mself\u001B[39m\u001B[38;5;241m.\u001B[39msend(prep, \u001B[38;5;241m*\u001B[39m\u001B[38;5;241m*\u001B[39msend_kwargs)\n\u001B[0;32m    591\u001B[0m \u001B[38;5;28;01mreturn\u001B[39;00m resp\n",
      "File \u001B[1;32m~\\anaconda3\\envs\\3-10-graph-learning-demo\\lib\\site-packages\\requests\\sessions.py:703\u001B[0m, in \u001B[0;36mSession.send\u001B[1;34m(self, request, **kwargs)\u001B[0m\n\u001B[0;32m    700\u001B[0m start \u001B[38;5;241m=\u001B[39m preferred_clock()\n\u001B[0;32m    702\u001B[0m \u001B[38;5;66;03m# Send the request\u001B[39;00m\n\u001B[1;32m--> 703\u001B[0m r \u001B[38;5;241m=\u001B[39m adapter\u001B[38;5;241m.\u001B[39msend(request, \u001B[38;5;241m*\u001B[39m\u001B[38;5;241m*\u001B[39mkwargs)\n\u001B[0;32m    705\u001B[0m \u001B[38;5;66;03m# Total elapsed time of the request (approximately)\u001B[39;00m\n\u001B[0;32m    706\u001B[0m elapsed \u001B[38;5;241m=\u001B[39m preferred_clock() \u001B[38;5;241m-\u001B[39m start\n",
      "File \u001B[1;32m~\\anaconda3\\envs\\3-10-graph-learning-demo\\lib\\site-packages\\requests\\adapters.py:700\u001B[0m, in \u001B[0;36mHTTPAdapter.send\u001B[1;34m(self, request, stream, timeout, verify, cert, proxies)\u001B[0m\n\u001B[0;32m    696\u001B[0m     \u001B[38;5;28;01mif\u001B[39;00m \u001B[38;5;28misinstance\u001B[39m(e\u001B[38;5;241m.\u001B[39mreason, _SSLError):\n\u001B[0;32m    697\u001B[0m         \u001B[38;5;66;03m# This branch is for urllib3 v1.22 and later.\u001B[39;00m\n\u001B[0;32m    698\u001B[0m         \u001B[38;5;28;01mraise\u001B[39;00m SSLError(e, request\u001B[38;5;241m=\u001B[39mrequest)\n\u001B[1;32m--> 700\u001B[0m     \u001B[38;5;28;01mraise\u001B[39;00m \u001B[38;5;167;01mConnectionError\u001B[39;00m(e, request\u001B[38;5;241m=\u001B[39mrequest)\n\u001B[0;32m    702\u001B[0m \u001B[38;5;28;01mexcept\u001B[39;00m ClosedPoolError \u001B[38;5;28;01mas\u001B[39;00m e:\n\u001B[0;32m    703\u001B[0m     \u001B[38;5;28;01mraise\u001B[39;00m \u001B[38;5;167;01mConnectionError\u001B[39;00m(e, request\u001B[38;5;241m=\u001B[39mrequest)\n",
      "\u001B[1;31mConnectionError\u001B[0m: HTTPConnectionPool(host='fuseki', port=3030): Max retries exceeded with url: /dataset/sparql (Caused by NameResolutionError(\"<urllib3.connection.HTTPConnection object at 0x0000025F00C8E890>: Failed to resolve 'fuseki' ([Errno 11001] getaddrinfo failed)\"))"
     ]
    }
   ],
   "execution_count": 8
  },
  {
   "metadata": {
    "ExecuteTime": {
     "end_time": "2024-12-15T18:00:39.087244Z",
     "start_time": "2024-12-15T18:00:39.074713Z"
    }
   },
   "cell_type": "code",
   "source": [
    "# Load first 5 results\n",
    "import json\n",
    "\n",
    "# JSON data\n",
    "sparql_results = {\n",
    "    \"head\": {\n",
    "        \"vars\": [\"observation\", \"sensor\", \"property\", \"result\", \"unit\", \"time\"]\n",
    "    },\n",
    "    \"results\": {\n",
    "        \"bindings\": [\n",
    "            {\n",
    "                \"observation\": {\"type\": \"uri\", \"value\": \"http://hultig.ubi.pt/ontology/source_a/sensormeasurementevent/evt_002\"},\n",
    "                \"sensor\": {\"type\": \"uri\", \"value\": \"http://hultig.ubi.pt/ontology/source_a/sensor/sens_002\"},\n",
    "                \"property\": {\"type\": \"uri\", \"value\": \"http://www.w3.org/ns/sosa/Property_Humidity\"},\n",
    "                \"result\": {\"type\": \"literal\", \"datatype\": \"http://unitsofmeasure.org/Percent\", \"value\": \"38.24\"},\n",
    "                \"time\": {\"type\": \"literal\", \"datatype\": \"http://www.w3.org/2001/XMLSchema#dateTime\", \"value\": \"2024-06-01T00:00:00Z\"}\n",
    "            }\n",
    "        ]\n",
    "    }\n",
    "}\n",
    "\n",
    "# Extract the first 5 results\n",
    "bindings = sparql_results[\"results\"][\"bindings\"][:5]\n",
    "\n",
    "# Print the results\n",
    "for binding in bindings:\n",
    "    print(json.dumps(binding, indent=2))"
   ],
   "id": "e450908d20367de2",
   "outputs": [
    {
     "name": "stdout",
     "output_type": "stream",
     "text": [
      "{\n",
      "  \"observation\": {\n",
      "    \"type\": \"uri\",\n",
      "    \"value\": \"http://hultig.ubi.pt/ontology/source_a/sensormeasurementevent/evt_002\"\n",
      "  },\n",
      "  \"sensor\": {\n",
      "    \"type\": \"uri\",\n",
      "    \"value\": \"http://hultig.ubi.pt/ontology/source_a/sensor/sens_002\"\n",
      "  },\n",
      "  \"property\": {\n",
      "    \"type\": \"uri\",\n",
      "    \"value\": \"http://www.w3.org/ns/sosa/Property_Humidity\"\n",
      "  },\n",
      "  \"result\": {\n",
      "    \"type\": \"literal\",\n",
      "    \"datatype\": \"http://unitsofmeasure.org/Percent\",\n",
      "    \"value\": \"38.24\"\n",
      "  },\n",
      "  \"time\": {\n",
      "    \"type\": \"literal\",\n",
      "    \"datatype\": \"http://www.w3.org/2001/XMLSchema#dateTime\",\n",
      "    \"value\": \"2024-06-01T00:00:00Z\"\n",
      "  }\n",
      "}\n"
     ]
    }
   ],
   "execution_count": 9
  },
  {
   "cell_type": "markdown",
   "id": "af0d26cc2d45b1d2",
   "metadata": {},
   "source": [
    "## Graph Construction\n",
    "\n",
    "We will use `rdflib` to parse RDF data and construct a graph using `networkx`. The graph will represent entities and their relationships derived from the RDF triples.\n",
    "\n",
    "For example we have the following RDF data:"
   ]
  },
  {
   "metadata": {
    "ExecuteTime": {
     "end_time": "2024-12-15T18:00:46.619726Z",
     "start_time": "2024-12-15T18:00:46.587568Z"
    }
   },
   "cell_type": "code",
   "source": [
    "# Convert RDF to NetworkX graph\n",
    "def rdf_to_graph(rdf_graph):\n",
    "    \"\"\"\n",
    "    Convert RDF triples to a NetworkX graph.\n",
    "    \"\"\"\n",
    "    nx_graph = nx.DiGraph()\n",
    "    for subj, pred, obj in rdf_graph:\n",
    "        nx_graph.add_edge(str(subj), str(obj), predicate=str(pred))\n",
    "    print(\"Converted RDF to NetworkX graph with\", len(nx_graph.nodes), \"nodes and\", len(nx_graph.edges), \"edges.\")\n",
    "    return nx_graph\n"
   ],
   "id": "91bb72892dcddfcc",
   "outputs": [],
   "execution_count": 10
  },
  {
   "metadata": {
    "ExecuteTime": {
     "end_time": "2024-12-15T18:00:47.984229Z",
     "start_time": "2024-12-15T18:00:47.967265Z"
    }
   },
   "cell_type": "code",
   "source": [
    "with open(RDF_OUTPUT_FILE, \"r\") as rdf_file:\n",
    "    rdf_content = rdf_file.read()\n",
    "    print(rdf_content)"
   ],
   "id": "287638bf39e2ea66",
   "outputs": [
    {
     "name": "stdout",
     "output_type": "stream",
     "text": [
      "@prefix dcat: <http://www.w3.org/ns/dcat#> .\n",
      "@prefix dcterms: <http://purl.org/dc/terms/> .\n",
      "@prefix fhir: <http://hl7.org/fhir/> .\n",
      "@prefix foaf: <http://xmlns.com/foaf/0.1/> .\n",
      "@prefix hultig: <http://hultig.ubi.pt/ontology/source_a#> .\n",
      "@prefix prov: <http://www.w3.org/ns/prov#> .\n",
      "@prefix ql: <http://semweb.mmlab.be/ns/ql#> .\n",
      "@prefix rml: <http://semweb.mmlab.be/ns/rml#> .\n",
      "@prefix rr: <http://www.w3.org/ns/r2rml#> .\n",
      "@prefix schema: <http://schema.org/> .\n",
      "@prefix sosa: <http://www.w3.org/ns/sosa/> .\n",
      "@prefix ucum: <http://unitsofmeasure.org/> .\n",
      "@prefix void: <http://rdfs.org/ns/void#> .\n",
      "@prefix xsd: <http://www.w3.org/2001/XMLSchema#> .\n",
      "\n",
      "<http://hultig.ubi.pt/ontology/source_a/actuator/act_001> a sosa:Actuator;\n",
      "  sosa:isHostedBy <http://hultig.ubi.pt/ontology/source_a/device/dev_001> .\n",
      "\n",
      "<http://hultig.ubi.pt/ontology/source_a/platform/ui_001> a sosa:Platform;\n",
      "  sosa:hosts <http://hultig.ubi.pt/ontology/source_a/actuator/act_001>, <http://hultig.ubi.pt/ontology/source_a/sensor/sens_001>;\n",
      "  sosa:isHostedBy <http://hultig.ubi.pt/ontology/source_a/device/dev_001> .\n",
      "\n",
      "<http://hultig.ubi.pt/ontology/source_a/sensor/sens_001> a sosa:Sensor;\n",
      "  fhir:Device.identifier \"sens_001\";\n",
      "  sosa:hasSimpleResult \"35.0\"^^ucum:unit;\n",
      "  sosa:isHostedBy <http://hultig.ubi.pt/ontology/source_a/device/dev_001> .\n",
      "\n",
      "<http://hultig.ubi.pt/ontology/source_a/sensormeasurementevent/evt_001> a sosa:Observation;\n",
      "  fhir:Device.owner <http://hultig.ubi.pt/ontology/source_a/sensor/sens_001>;\n",
      "  fhir:Patient.identifier \"usr_002\";\n",
      "  sosa:hasSimpleResult \"28.7\"^^ucum:Cel;\n",
      "  sosa:observedProperty sosa:Property_Temperature;\n",
      "  sosa:resultTime \"2021-09-29T11:19:11.788Z\"^^xsd:dateTime .\n",
      "\n",
      "<http://hultig.ubi.pt/ontology/source_a/sensormeasurementevent/evt_002> a sosa:Observation;\n",
      "  fhir:Patient.identifier \"usr_003\";\n",
      "  sosa:hasSimpleResult \"38.24\"^^ucum:Percent;\n",
      "  sosa:madeBySensor <http://hultig.ubi.pt/ontology/source_a/sensor/sens_002>;\n",
      "  sosa:observedProperty sosa:Property_Humidity;\n",
      "  sosa:resultTime \"2024-06-01T00:00:00.000Z\"^^xsd:dateTime .\n",
      "\n"
     ]
    }
   ],
   "execution_count": 11
  },
  {
   "metadata": {
    "ExecuteTime": {
     "end_time": "2024-12-15T18:00:51.199651Z",
     "start_time": "2024-12-15T18:00:51.187252Z"
    }
   },
   "cell_type": "code",
   "source": [
    "from rdflib import Graph, Literal\n",
    "from rdflib.namespace import XSD"
   ],
   "id": "ab379cb6c900e3e2",
   "outputs": [],
   "execution_count": 12
  },
  {
   "metadata": {
    "ExecuteTime": {
     "end_time": "2024-12-15T18:00:51.906104Z",
     "start_time": "2024-12-15T18:00:51.882037Z"
    }
   },
   "cell_type": "code",
   "source": [
    "def calculate_semantic_metrics(rdf_file):\n",
    "    \"\"\"\n",
    "    Calculate semantic metrics for RDF data with handling for invalid literals.\n",
    "    \"\"\"\n",
    "    g = Graph()\n",
    "    g.parse(rdf_file, format=\"turtle\")\n",
    "    total_triples = len(g)\n",
    "\n",
    "    # Define relevant vocabularies for semantic enrichment\n",
    "    vocabularies = [\n",
    "        \"http://www.w3.org/ns/sosa/\",\n",
    "        \"http://hl7.org/fhir/\",\n",
    "        \"http://schema.org/\"\n",
    "    ]\n",
    "\n",
    "    # Count triples that use semantic vocabularies\n",
    "    semantic_triples = 0\n",
    "    vocab_usage = {vocab: 0 for vocab in vocabularies}\n",
    "\n",
    "    for s, p, o in g:\n",
    "        try:\n",
    "            # Attempt to convert the literal value to its datatype\n",
    "            if isinstance(o, Literal) and o.datatype == XSD.dateTime:\n",
    "                # Validate date-time\n",
    "                o.toPython()\n",
    "        except Exception as e:\n",
    "            print(f\"Invalid value detected: {o} - Error: {e}\")\n",
    "\n",
    "        for vocab in vocabularies:\n",
    "            if vocab in str(p) or vocab in str(o):\n",
    "                semantic_triples += 1\n",
    "                vocab_usage[vocab] += 1\n",
    "\n",
    "    # Calculate semantic completeness\n",
    "    semantic_completeness = (semantic_triples / total_triples) * 100\n",
    "\n",
    "    # Display results\n",
    "    print(\"Total Triples:\", total_triples)\n",
    "    print(\"Semantic Triples:\", semantic_triples)\n",
    "    print(\"Semantic Completeness (%):\", round(semantic_completeness, 2))\n",
    "    print(\"\\nVocabulary Usage:\")\n",
    "    for vocab, count in vocab_usage.items():\n",
    "        print(f\"  {vocab}: {count} triples\")\n",
    "\n",
    "    return semantic_completeness, vocab_usage"
   ],
   "id": "a9516123c0a70122",
   "outputs": [],
   "execution_count": 13
  },
  {
   "metadata": {
    "ExecuteTime": {
     "end_time": "2024-12-15T18:00:53.355202Z",
     "start_time": "2024-12-15T18:00:53.288646Z"
    }
   },
   "cell_type": "code",
   "source": [
    "input_rdf_file = \"input.ttl\"\n",
    "calculate_semantic_metrics(input_rdf_file)"
   ],
   "id": "c6063690681fca2e",
   "outputs": [
    {
     "name": "stdout",
     "output_type": "stream",
     "text": [
      "Total Triples: 18\n",
      "Semantic Triples: 6\n",
      "Semantic Completeness (%): 33.33\n",
      "\n",
      "Vocabulary Usage:\n",
      "  http://www.w3.org/ns/sosa/: 0 triples\n",
      "  http://hl7.org/fhir/: 0 triples\n",
      "  http://schema.org/: 6 triples\n",
      "  http://unitsofmeasure.org/: 0 triples\n"
     ]
    },
    {
     "data": {
      "text/plain": [
       "(33.33333333333333,\n",
       " {'http://www.w3.org/ns/sosa/': 0,\n",
       "  'http://hl7.org/fhir/': 0,\n",
       "  'http://schema.org/': 6,\n",
       "  'http://unitsofmeasure.org/': 0})"
      ]
     },
     "execution_count": 14,
     "metadata": {},
     "output_type": "execute_result"
    }
   ],
   "execution_count": 14
  },
  {
   "metadata": {
    "ExecuteTime": {
     "end_time": "2024-12-15T18:00:54.912078Z",
     "start_time": "2024-12-15T18:00:54.878333Z"
    }
   },
   "cell_type": "code",
   "source": [
    "output_rdf_file = \"output.ttl\"\n",
    "calculate_semantic_metrics(output_rdf_file)"
   ],
   "id": "952a14277769032b",
   "outputs": [
    {
     "name": "stdout",
     "output_type": "stream",
     "text": [
      "Total Triples: 22\n",
      "Semantic Triples: 22\n",
      "Semantic Completeness (%): 100.0\n",
      "\n",
      "Vocabulary Usage:\n",
      "  http://www.w3.org/ns/sosa/: 18 triples\n",
      "  http://hl7.org/fhir/: 4 triples\n",
      "  http://schema.org/: 0 triples\n",
      "  http://unitsofmeasure.org/: 0 triples\n"
     ]
    },
    {
     "data": {
      "text/plain": [
       "(100.0,\n",
       " {'http://www.w3.org/ns/sosa/': 18,\n",
       "  'http://hl7.org/fhir/': 4,\n",
       "  'http://schema.org/': 0,\n",
       "  'http://unitsofmeasure.org/': 0})"
      ]
     },
     "execution_count": 15,
     "metadata": {},
     "output_type": "execute_result"
    }
   ],
   "execution_count": 15
  },
  {
   "cell_type": "code",
   "id": "536b0f6bb746f337",
   "metadata": {
    "ExecuteTime": {
     "end_time": "2024-12-15T18:00:57.633934Z",
     "start_time": "2024-12-15T18:00:56.216572Z"
    }
   },
   "source": [
    "import rdflib\n",
    "import networkx as nx\n",
    "import matplotlib.pyplot as plt\n",
    "\n",
    "# Example RDF data (you can replace this with your RDF content)\n",
    "sample_rdf_data = \"\"\"\n",
    "@prefix ex: <http://example.org/> .\n",
    "ex:dev_001 ex:hasDeviceName \"Primary Device\" .\n",
    "ex:dev_001 ex:hasOwner ex:usr_001 .\n",
    "ex:usr_001 ex:hasUserName \"User One\" .\n",
    "\"\"\"\n",
    "\n",
    "# Create a graph from RDF data\n",
    "sample_graph = rdflib.Graph()\n",
    "sample_graph.parse(data=sample_rdf_data, format=\"turtle\")\n",
    "\n",
    "# Convert RDF graph into a NetworkX graph\n",
    "sample_nx_graph = nx.Graph()\n",
    "\n",
    "# Add nodes and edges from RDF triples\n",
    "for subj, pred, obj in sample_graph:\n",
    "    # Convert RDF resources to strings\n",
    "    subj = str(subj)\n",
    "    obj = str(obj)\n",
    "\n",
    "    # Add nodes (subjects and objects)\n",
    "    sample_nx_graph.add_node(subj)\n",
    "    sample_nx_graph.add_node(obj)\n",
    "\n",
    "    # Add edge between subject and object (predicate is the relationship)\n",
    "    sample_nx_graph.add_edge(subj, obj, label=str(pred))\n",
    "\n",
    "# Visualize the graph\n",
    "plt.figure(figsize=(8, 8))\n",
    "nx.draw(sample_nx_graph, with_labels=True, node_size=2000, node_color='skyblue', font_size=10)\n",
    "plt.title(\"Graph constructed from RDF data\")\n",
    "plt.show()\n"
   ],
   "outputs": [
    {
     "data": {
      "text/plain": [
       "<Figure size 800x800 with 1 Axes>"
      ],
      "image/png": "[encoded data removed]"
     },
     "metadata": {},
     "output_type": "display_data"
    }
   ],
   "execution_count": 16
  },
  {
   "cell_type": "code",
   "id": "9be2f06c9e1b8cf4",
   "metadata": {
    "ExecuteTime": {
     "end_time": "2024-12-15T18:00:58.762849Z",
     "start_time": "2024-12-15T18:00:58.728976Z"
    }
   },
   "source": [
    "import rdflib\n",
    "import networkx as nx\n",
    "import pickle\n",
    "\n",
    "# Parse RDF file\n",
    "rdf_graph = rdflib.Graph()\n",
    "rdf_graph.parse(RDF_OUTPUT_FILE, format=\"turtle\")\n",
    "\n",
    "# Convert RDF to NetworkX graph\n",
    "nx_graph = rdf_to_graph(rdf_graph)\n",
    "\n",
    "# Write NetworkX graph to pickle file\n",
    "with open(GRAPH_OUTPUT_FILE, 'wb') as f:\n",
    "    pickle.dump(nx_graph, f, pickle.HIGHEST_PROTOCOL)\n",
    "\n",
    "print(f\"Converted RDF to NetworkX graph and saved to {GRAPH_OUTPUT_FILE}.\")\n"
   ],
   "outputs": [
    {
     "name": "stdout",
     "output_type": "stream",
     "text": [
      "Converted RDF to NetworkX graph with 21 nodes and 22 edges.\n",
      "Converted RDF to NetworkX graph and saved to graph.gpickle.\n"
     ]
    }
   ],
   "execution_count": 17
  },
  {
   "cell_type": "code",
   "id": "c55d37e289512497",
   "metadata": {
    "ExecuteTime": {
     "end_time": "2024-12-15T18:01:00.470581Z",
     "start_time": "2024-12-15T18:01:00.463355Z"
    }
   },
   "source": [
    "# Visualize the graph - For large graphs, consider sampling or filtering nodes\n",
    "# def visualize_graph(graph):\n",
    "#     \"\"\"\n",
    "#     Visualize the graph using NetworkX.\n",
    "#     \"\"\"\n",
    "#     plt.figure(figsize=(12, 8))\n",
    "#     pos = nx.spring_layout(graph)\n",
    "#     nx.draw(graph, pos, with_labels=True, node_size=700, node_color=\"lightblue\", font_size=10, font_weight=\"bold\")\n",
    "#     edge_labels = nx.get_edge_attributes(graph, \"predicate\")\n",
    "#     nx.draw_networkx_edge_labels(graph, pos, edge_labels=edge_labels, font_size=8)\n",
    "#     plt.title(\"Knowledge Graph Visualization\")\n",
    "#     plt.show()\n",
    "# \n",
    "# visualize_graph(nx_graph)"
   ],
   "outputs": [],
   "execution_count": 18
  },
  {
   "cell_type": "code",
   "id": "7f1e252455e8cdec",
   "metadata": {
    "ExecuteTime": {
     "end_time": "2024-12-15T18:01:01.536233Z",
     "start_time": "2024-12-15T18:01:01.514375Z"
    }
   },
   "source": [
    "def calculate_metrics(graph):\n",
    "    \"\"\"\n",
    "    Calculate and display key metrics for the RDF graph.\n",
    "    \"\"\"\n",
    "    # Graph structure metrics\n",
    "    num_nodes = len(graph.nodes)\n",
    "    num_edges = len(graph.edges)\n",
    "    avg_degree = sum(dict(graph.degree).values()) / num_nodes\n",
    "\n",
    "    # Report metrics\n",
    "    print(\"\\n--- Metrics ---\")\n",
    "    print(f\"Number of Nodes: {num_nodes}\")\n",
    "    print(f\"Number of Edges: {num_edges}\")\n",
    "    print(f\"Average Node Degree: {avg_degree:.2f}\")\n",
    "\n",
    "calculate_metrics(nx_graph)"
   ],
   "outputs": [
    {
     "name": "stdout",
     "output_type": "stream",
     "text": [
      "\n",
      "--- Metrics ---\n",
      "Number of Nodes: 21\n",
      "Number of Edges: 22\n",
      "Average Node Degree: 2.10\n"
     ]
    }
   ],
   "execution_count": 19
  },
  {
   "cell_type": "markdown",
   "id": "aa07f4c8993d957a",
   "metadata": {},
   "source": [
    "## Feature Engineering\n",
    "\n",
    "Features are extracted from RDF triples to represent nodes in a format suitable for graph neural networks (GNNs)."
   ]
  },
  {
   "cell_type": "code",
   "id": "f49c6bf2f687388d",
   "metadata": {
    "ExecuteTime": {
     "end_time": "2024-12-15T18:01:03.177676Z",
     "start_time": "2024-12-15T18:01:03.151904Z"
    }
   },
   "source": [
    "# Uncomment the following line if you haven't installed the necessary dependencies yet.\n",
    "# !pip install torch\n",
    "# !pip install torch-scatter torch-sparse torch-cluster torch-spline-conv torch-geometric -f https://data.pyg.org/whl/torch-1.13.0+cu116.html"
   ],
   "outputs": [],
   "execution_count": 20
  },
  {
   "cell_type": "code",
   "id": "c402acdb2ce64162",
   "metadata": {
    "ExecuteTime": {
     "end_time": "2024-12-15T18:01:04.247708Z",
     "start_time": "2024-12-15T18:01:04.227295Z"
    }
   },
   "source": [
    "for node in nx_graph.nodes:\n",
    "    print(type(node), node)\n",
    "\n",
    "node_to_index = {node.lower(): i for i, node in enumerate(nx_graph.nodes)}\n",
    "print(node_to_index)\n"
   ],
   "outputs": [
    {
     "name": "stdout",
     "output_type": "stream",
     "text": [
      "<class 'str'> http://hultig.ubi.pt/ontology/source_a/sensormeasurementevent/evt_001\n",
      "<class 'str'> http://www.w3.org/ns/sosa/Property_Temperature\n",
      "<class 'str'> http://hultig.ubi.pt/ontology/source_a/sensormeasurementevent/evt_002\n",
      "<class 'str'> http://hultig.ubi.pt/ontology/source_a/sensor/sens_002\n",
      "<class 'str'> http://hultig.ubi.pt/ontology/source_a/sensor/sens_001\n",
      "<class 'str'> sens_001\n",
      "<class 'str'> http://hultig.ubi.pt/ontology/source_a/platform/ui_001\n",
      "<class 'str'> http://hultig.ubi.pt/ontology/source_a/actuator/act_001\n",
      "<class 'str'> usr_003\n",
      "<class 'str'> 28.7\n",
      "<class 'str'> http://www.w3.org/ns/sosa/Actuator\n",
      "<class 'str'> http://www.w3.org/ns/sosa/Observation\n",
      "<class 'str'> http://www.w3.org/ns/sosa/Property_Humidity\n",
      "<class 'str'> 38.24\n",
      "<class 'str'> http://www.w3.org/ns/sosa/Sensor\n",
      "<class 'str'> 35.0\n",
      "<class 'str'> 2021-09-29T11:19:11.788000+00:00\n",
      "<class 'str'> usr_002\n",
      "<class 'str'> 2024-06-01T00:00:00+00:00\n",
      "<class 'str'> http://hultig.ubi.pt/ontology/source_a/device/dev_001\n",
      "<class 'str'> http://www.w3.org/ns/sosa/Platform\n",
      "{'http://hultig.ubi.pt/ontology/source_a/sensormeasurementevent/evt_001': 0, 'http://www.w3.org/ns/sosa/property_temperature': 1, 'http://hultig.ubi.pt/ontology/source_a/sensormeasurementevent/evt_002': 2, 'http://hultig.ubi.pt/ontology/source_a/sensor/sens_002': 3, 'http://hultig.ubi.pt/ontology/source_a/sensor/sens_001': 4, 'sens_001': 5, 'http://hultig.ubi.pt/ontology/source_a/platform/ui_001': 6, 'http://hultig.ubi.pt/ontology/source_a/actuator/act_001': 7, 'usr_003': 8, '28.7': 9, 'http://www.w3.org/ns/sosa/actuator': 10, 'http://www.w3.org/ns/sosa/observation': 11, 'http://www.w3.org/ns/sosa/property_humidity': 12, '38.24': 13, 'http://www.w3.org/ns/sosa/sensor': 14, '35.0': 15, '2021-09-29t11:19:11.788000+00:00': 16, 'usr_002': 17, '2024-06-01t00:00:00+00:00': 18, 'http://hultig.ubi.pt/ontology/source_a/device/dev_001': 19, 'http://www.w3.org/ns/sosa/platform': 20}\n"
     ]
    }
   ],
   "execution_count": 21
  },
  {
   "cell_type": "code",
   "id": "489506deec78311d",
   "metadata": {
    "ExecuteTime": {
     "end_time": "2024-12-15T18:01:15.875963Z",
     "start_time": "2024-12-15T18:01:04.752181Z"
    }
   },
   "source": [
    "import numpy as np\n",
    "import torch\n",
    "from torch_geometric.data import Data\n",
    "from sklearn.preprocessing import LabelEncoder\n",
    "\n",
    "# Example: Create features for nodes\n",
    "node_features = {}\n",
    "for node in nx_graph.nodes:\n",
    "    # Simple feature extraction based on node label\n",
    "    if \"dev\" in node:\n",
    "        node_features[node] = np.random.rand(10)  # Random feature vector for device\n",
    "    else:\n",
    "        node_features[node] = np.zeros(10)  # Default feature for non-device nodes\n",
    "\n",
    "# Encode node labels to numeric indices using LabelEncoder\n",
    "node_labels = list(nx_graph.nodes)  # Extract all node labels\n",
    "label_encoder = LabelEncoder()\n",
    "encoded_labels = label_encoder.fit_transform(node_labels)\n",
    "\n",
    "# Create mapping from original node labels to numerical indices\n",
    "node_to_index = {node: idx for node, idx in zip(node_labels, encoded_labels)}\n",
    "\n",
    "# Convert edges to numerical indices using the mapping\n",
    "edge_index = [\n",
    "    [node_to_index[u], node_to_index[v]] for u, v in nx_graph.edges\n",
    "]\n",
    "edge_index = torch.tensor(edge_index, dtype=torch.long).t().contiguous()\n",
    "\n",
    "# Convert node features into a tensor\n",
    "x = torch.tensor([node_features[node] for node in nx_graph.nodes], dtype=torch.float)\n",
    "\n",
    "# Prepare the data for the GNN model\n",
    "data = Data(x=x, edge_index=edge_index)\n",
    "\n",
    "# Output the encoded data\n",
    "print(data)\n"
   ],
   "outputs": [
    {
     "ename": "ModuleNotFoundError",
     "evalue": "No module named 'torch_geometric'",
     "output_type": "error",
     "traceback": [
      "\u001B[1;31m---------------------------------------------------------------------------\u001B[0m",
      "\u001B[1;31mModuleNotFoundError\u001B[0m                       Traceback (most recent call last)",
      "Cell \u001B[1;32mIn[22], line 3\u001B[0m\n\u001B[0;32m      1\u001B[0m \u001B[38;5;28;01mimport\u001B[39;00m \u001B[38;5;21;01mnumpy\u001B[39;00m \u001B[38;5;28;01mas\u001B[39;00m \u001B[38;5;21;01mnp\u001B[39;00m\n\u001B[0;32m      2\u001B[0m \u001B[38;5;28;01mimport\u001B[39;00m \u001B[38;5;21;01mtorch\u001B[39;00m\n\u001B[1;32m----> 3\u001B[0m \u001B[38;5;28;01mfrom\u001B[39;00m \u001B[38;5;21;01mtorch_geometric\u001B[39;00m\u001B[38;5;21;01m.\u001B[39;00m\u001B[38;5;21;01mdata\u001B[39;00m \u001B[38;5;28;01mimport\u001B[39;00m Data\n\u001B[0;32m      4\u001B[0m \u001B[38;5;28;01mfrom\u001B[39;00m \u001B[38;5;21;01msklearn\u001B[39;00m\u001B[38;5;21;01m.\u001B[39;00m\u001B[38;5;21;01mpreprocessing\u001B[39;00m \u001B[38;5;28;01mimport\u001B[39;00m LabelEncoder\n\u001B[0;32m      6\u001B[0m \u001B[38;5;66;03m# Example: Create features for nodes\u001B[39;00m\n",
      "\u001B[1;31mModuleNotFoundError\u001B[0m: No module named 'torch_geometric'"
     ]
    }
   ],
   "execution_count": 22
  },
  {
   "cell_type": "markdown",
   "id": "4aa107053bece863",
   "metadata": {},
   "source": [
    "## Model Training\n",
    "\n",
    "We will train a simple Graph Neural Network (GNN) model using the PyTorch Geometric library to classify patient risk levels based on graph structure and features."
   ]
  },
  {
   "cell_type": "code",
   "id": "47ad4d6a31693d6d",
   "metadata": {
    "ExecuteTime": {
     "end_time": "2024-12-15T18:01:34.010084Z",
     "start_time": "2024-12-15T18:01:33.945244Z"
    }
   },
   "source": [
    "import torch\n",
    "from torch_geometric.nn import GCNConv\n",
    "from torch_geometric.data import DataLoader\n",
    "\n",
    "# Define the GCN model\n",
    "class GCN(torch.nn.Module):\n",
    "    def __init__(self, input_dim, hidden_dim, output_dim):\n",
    "        super(GCN, self).__init__()\n",
    "        self.conv1 = GCNConv(input_dim, hidden_dim)\n",
    "        self.conv2 = GCNConv(hidden_dim, output_dim)\n",
    "\n",
    "    def forward(self, x, edge_index):\n",
    "        x = self.conv1(x, edge_index).relu()\n",
    "        x = self.conv2(x, edge_index)\n",
    "        return x\n",
    "\n",
    "# Initialize the model, loss, and optimizer\n",
    "input_dim = 10  # Feature vector size\n",
    "hidden_dim = 16\n",
    "output_dim = 2  # Example: node classification with 2 classes\n",
    "\n",
    "model = GCN(input_dim, hidden_dim, output_dim)\n",
    "optimizer = torch.optim.Adam(model.parameters(), lr=0.01)\n",
    "criterion = torch.nn.CrossEntropyLoss()\n",
    "\n",
    "# Example training loop (adapt for your task)\n",
    "for epoch in range(200):\n",
    "    model.train()\n",
    "    optimizer.zero_grad()\n",
    "    out = model(data.x, data.edge_index)\n",
    "    loss = criterion(out, torch.zeros(data.x.size(0), dtype=torch.long))  # Dummy target labels\n",
    "    loss.backward()\n",
    "    optimizer.step()\n",
    "\n",
    "    if epoch % 20 == 0:\n",
    "        print(f\"Epoch {epoch}, Loss: {loss.item()}\")\n"
   ],
   "outputs": [
    {
     "ename": "ModuleNotFoundError",
     "evalue": "No module named 'torch_geometric'",
     "output_type": "error",
     "traceback": [
      "\u001B[1;31m---------------------------------------------------------------------------\u001B[0m",
      "\u001B[1;31mModuleNotFoundError\u001B[0m                       Traceback (most recent call last)",
      "Cell \u001B[1;32mIn[24], line 2\u001B[0m\n\u001B[0;32m      1\u001B[0m \u001B[38;5;28;01mimport\u001B[39;00m \u001B[38;5;21;01mtorch\u001B[39;00m\n\u001B[1;32m----> 2\u001B[0m \u001B[38;5;28;01mfrom\u001B[39;00m \u001B[38;5;21;01mtorch_geometric\u001B[39;00m\u001B[38;5;21;01m.\u001B[39;00m\u001B[38;5;21;01mnn\u001B[39;00m \u001B[38;5;28;01mimport\u001B[39;00m GCNConv\n\u001B[0;32m      3\u001B[0m \u001B[38;5;28;01mfrom\u001B[39;00m \u001B[38;5;21;01mtorch_geometric\u001B[39;00m\u001B[38;5;21;01m.\u001B[39;00m\u001B[38;5;21;01mdata\u001B[39;00m \u001B[38;5;28;01mimport\u001B[39;00m DataLoader\n\u001B[0;32m      5\u001B[0m \u001B[38;5;66;03m# Define the GCN model\u001B[39;00m\n",
      "\u001B[1;31mModuleNotFoundError\u001B[0m: No module named 'torch_geometric'"
     ]
    }
   ],
   "execution_count": 24
  },
  {
   "cell_type": "markdown",
   "id": "363ec846965f4055",
   "metadata": {},
   "source": [
    "## Adaptation Triggering\n",
    "\n",
    "We will simulate the triggering of notifications or alerts for high-risk patients based on the model's classification results."
   ]
  },
  {
   "cell_type": "code",
   "id": "23a6db007b365a8f",
   "metadata": {
    "ExecuteTime": {
     "end_time": "2024-12-15T18:01:15.883575Z",
     "start_time": "2024-12-15T18:01:15.882574Z"
    }
   },
   "source": [
    "# Adaptation function to trigger alerts or actions based on predictions\n",
    "def trigger_adaptation(model, data):\n",
    "    model.eval()\n",
    "    with torch.no_grad():\n",
    "        out = model(data.x, data.edge_index)\n",
    "        predictions = torch.argmax(out, dim=1)\n",
    "\n",
    "        # Trigger adaptation based on predictions\n",
    "        if predictions[0] == 1:  # Example: if node 0 is predicted to be in class 1\n",
    "            print(\"Adaptation triggered: Alert! Environmental adjustment needed.\")\n",
    "        else:\n",
    "            print(\"Adaptation not triggered.\")"
   ],
   "outputs": [],
   "execution_count": null
  },
  {
   "cell_type": "code",
   "id": "caa89b6b983fc8a9",
   "metadata": {},
   "source": [
    "trigger_adaptation(model, data)"
   ],
   "outputs": [],
   "execution_count": null
  },
  {
   "cell_type": "markdown",
   "id": "2b57aeb386a06bc",
   "metadata": {},
   "source": [
    "## Evaluation\n",
    "\n",
    "We will evaluate the performance of the trained GNN model using metrics such as classification report.\n"
   ]
  },
  {
   "cell_type": "code",
   "id": "f3c9aa7c00d02bb",
   "metadata": {
    "ExecuteTime": {
     "end_time": "2024-12-15T18:01:16.203616Z",
     "start_time": "2024-12-15T18:01:16.129411Z"
    }
   },
   "source": [
    "from sklearn.metrics import classification_report\n",
    "import torch\n",
    "\n",
    "# Evaluate the model\n",
    "def evaluate_model(model, data):\n",
    "    model.eval()\n",
    "    with torch.no_grad():\n",
    "        out = model(data.x, data.edge_index)\n",
    "        predictions = torch.argmax(out, dim=1)\n",
    "\n",
    "        # Generate random target labels\n",
    "        num_classes = out.size(1)\n",
    "        target = torch.randint(0, num_classes, (data.x.size(0),), dtype=torch.long)\n",
    "\n",
    "        # Calculate evaluation metrics\n",
    "        report = classification_report(target, predictions, zero_division=0)\n",
    "\n",
    "        print(\"Classification Report:\")\n",
    "        print(report)\n",
    "\n",
    "# Call the function\n",
    "evaluate_model(model, data)\n"
   ],
   "outputs": [
    {
     "ename": "NameError",
     "evalue": "name 'model' is not defined",
     "output_type": "error",
     "traceback": [
      "\u001B[1;31m---------------------------------------------------------------------------\u001B[0m",
      "\u001B[1;31mNameError\u001B[0m                                 Traceback (most recent call last)",
      "Cell \u001B[1;32mIn[23], line 24\u001B[0m\n\u001B[0;32m     21\u001B[0m         \u001B[38;5;28;01mif\u001B[39;00m auc_score \u001B[38;5;129;01mis\u001B[39;00m \u001B[38;5;129;01mnot\u001B[39;00m \u001B[38;5;28;01mNone\u001B[39;00m:\n\u001B[0;32m     22\u001B[0m             \u001B[38;5;28mprint\u001B[39m(\u001B[38;5;124m\"\u001B[39m\u001B[38;5;124mROC AUC Score:\u001B[39m\u001B[38;5;124m\"\u001B[39m, auc_score)\n\u001B[1;32m---> 24\u001B[0m evaluate_model(\u001B[43mmodel\u001B[49m, data)\n",
      "\u001B[1;31mNameError\u001B[0m: name 'model' is not defined"
     ]
    }
   ],
   "execution_count": 23
  },
  {
   "cell_type": "markdown",
   "id": "533e6a5f7ca0ce28",
   "metadata": {},
   "source": [
    "## Continuous Learning Updating the Model With New Data\n",
    "\n",
    "In this part, we will add a component that listens for real-time data (simulated for now) and updates the model continuously. The model will be retrained periodically to adapt to new sensor readings or events."
   ]
  },
  {
   "cell_type": "code",
   "execution_count": null,
   "id": "d21a47ae476904c3",
   "metadata": {
    "ExecuteTime": {
     "end_time": "2024-12-13T21:06:14.369617Z",
     "start_time": "2024-12-13T21:06:14.311805Z"
    }
   },
   "outputs": [],
   "source": [
    "import time\n",
    "import random\n",
    "from datetime import datetime\n",
    "from torch_geometric.data import DataLoader\n",
    "\n",
    "# Real-time data simulator (this would be replaced with real data collection in production)\n",
    "def get_new_sensor_data():\n",
    "    # Simulating new sensor data (temperature and humidity)\n",
    "    sensor_id = random.choice([\"sens_001\", \"sens_002\", \"sens_003\"])\n",
    "    sensor_type = \"TEMPERATURE\" if \"TEMPERATURE\" in sensor_id else \"HUMIDITY\"\n",
    "    value = random.uniform(20, 40) if sensor_type == \"TEMPERATURE\" else random.uniform(30, 60)\n",
    "\n",
    "    new_event = {\n",
    "        \"timestamp\": datetime.now().isoformat(),\n",
    "        \"sensorId\": sensor_id,\n",
    "        \"sensorType\": sensor_type,\n",
    "        \"value\": value\n",
    "    }\n",
    "    return new_event\n",
    "\n",
    "# A function to update the model periodically with new data\n",
    "def update_model_periodically(model, data, interval=10):\n",
    "    \"\"\"\n",
    "    Updates the model by retraining it with new data collected at regular intervals.\n",
    "    - model: the GCN model to be updated.\n",
    "    - data: the PyTorch Geometric Data object containing the current graph.\n",
    "    - interval: how often to update the model in seconds (default is 10 seconds).\n",
    "    \"\"\"\n",
    "    start_time = time.time()\n",
    "\n",
    "    # run for 3 times\n",
    "    for _ in range(3):\n",
    "        time.sleep(interval)\n",
    "        # Simulate collecting new data\n",
    "        new_data = get_new_sensor_data()\n",
    "        print(f\"New data collected: {new_data}\")\n",
    "\n",
    "        # Update the graph and features based on new data (example)\n",
    "        # In a real case, you would update the graph structure (nodes/edges) and features\n",
    "        new_feature = torch.tensor([random.random() for _ in range(10)])  # New random feature (replace with actual data)\n",
    "        data.x = torch.cat((data.x, new_feature.unsqueeze(0)), dim=0)  # Add new feature to existing data\n",
    "\n",
    "        # Retrain the model with the new data (using a simple example here)\n",
    "        model.train()\n",
    "        optimizer.zero_grad()\n",
    "        out = model(data.x, data.edge_index)\n",
    "        loss = criterion(out, torch.zeros(data.x.size(0), dtype=torch.long))  # Dummy labels\n",
    "        loss.backward()\n",
    "        optimizer.step()\n",
    "\n",
    "        print(f\"Model updated with new data. Loss: {loss.item()}\")\n",
    "\n"
   ]
  },
  {
   "cell_type": "code",
   "execution_count": null,
   "id": "50b61603cb15fb99",
   "metadata": {
    "ExecuteTime": {
     "end_time": "2024-12-13T21:05:40.424552Z",
     "start_time": "2024-12-13T21:05:40.268805Z"
    }
   },
   "outputs": [],
   "source": [
    "# Example usage: Start periodic model updates\n",
    "update_model_periodically(model, data, interval=10)  # Update every 10 seconds"
   ]
  },
  {
   "cell_type": "code",
   "execution_count": null,
   "id": "c56a22f9e728383e",
   "metadata": {},
   "outputs": [],
   "source": []
  }
 ],
 "metadata": {
  "kernelspec": {
   "display_name": "Python 3 (ipykernel)",
   "language": "python",
   "name": "python3"
  },
  "language_info": {
   "codemirror_mode": {
    "name": "ipython",
    "version": 3
   },
   "file_extension": ".py",
   "mimetype": "text/x-python",
   "name": "python",
   "nbconvert_exporter": "python",
   "pygments_lexer": "ipython3",
   "version": "3.10.12"
  }
 },
 "nbformat": 4,
 "nbformat_minor": 5
}
