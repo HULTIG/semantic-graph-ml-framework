{
 "cells": [
  {
   "cell_type": "markdown",
   "id": "13d9cd89612d2e79",
   "metadata": {},
   "source": [
    "# SAFIR Workflow Demonstration Notebook\n"
   ]
  },
  {
   "cell_type": "markdown",
   "id": "f5dcf763eadb4055",
   "metadata": {},
   "source": [
    "## Table of Contents\n",
    "\n",
    "1. [Introduction](#Introduction)\n",
    "1. [Load Input Data](#Load-Input-Data)\n",
    "1. [Graph Construction](#Graph-Construction)\n",
    "1. [Feature Engineering](#Feature-Engineering)\n",
    "1. [Model Training](#Model-Training)\n",
    "1. [Adaptation Triggering](#Adaptation-Triggering)\n",
    "1. [Evaluation](#Evaluation)\n",
    "1. [Continuous Learning](#Continuous-Learning) "
   ]
  },
  {
   "cell_type": "markdown",
   "id": "f39baf9291986a77",
   "metadata": {},
   "source": [
    "## Introduction\n",
    "\n",
    "This notebook demonstrates a sample use case to process input data from healthcare and environmental readings of a user. \n",
    "\n",
    "The workflow includes the implementation of graph learning into the process using the following steps: \n",
    "1. **Load input data**: JSON data representing devices, sensors, actuators, and events;\n",
    "2. **Transform the data into RDF format using an external API**: the api service is running in the same network as the notebook and can be accessed at `http://api:8080/api/v1/rdf/gi/generate-rdf`, the data is transformed into RDF format using the R2RML transformation API;\n",
    "3. **Graph construction**: the RDF data is converted into a NetworkX graph for further analysis and visualization;\n",
    "4. **Feature engineering**: by extracting features from the graph data;\n",
    "5. **Model training**: a sample Graph Neural Network (GNN) is trained to classify patient risk levels based on graph structure and features;\n",
    "6. **Adaptation triggering**: a simulation of notifications or alerts are triggered for high-risk patients;\n",
    "7. **Evaluation**: the performance and utility of the generated RDF graph are evaluated through visualizations and metrics.\n",
    "8. **Visualization**: the graph is visualized using NetworkX.\n",
    "9. **Metrics Calculation**: key metrics are calculated for the workflow.\n",
    "10. **Continuous Learning**: the graph learning process is repeated for new data.\n",
    "\n",
    "### Use Case Demonstration in Self-Adaptive Systems\n",
    "\n",
    "#### Node Classification for Patient Monitoring\n",
    "\n",
    "- **Scenario**: Predict the risk level of a patient (e.g. low, medium, high).\n",
    "- **Graph Input**:\n",
    "  - **Nodes**: Patients, observations, devices.\n",
    "  - **Features**: Sensor readings (e.g. temperature), patient profiles.\n",
    "- **Learning Task**: Train a Graph Neural Network (GNN) to classify patient risk levels based on graph structure and features.\n",
    "- **Adaptation**: Trigger notifications or alerts for high-risk patients.\n",
    "\n",
    "This use case demonstrates how graph learning can be applied to self-adaptive systems, enabling real-time monitoring and automated decision-making in critical applications such as patient care.\n",
    "\n",
    "In summary, the workflow consists of the following steps:\n",
    "1. **Achieving Semantic Data Interoperability**: Transforming JSON input data into RDF, making it machine-readable and semantically enriched.\n",
    "2. **Graph Learning and Visualization**: Constructing and analyzing the RDF graph, with metrics calculation for insights.\n",
    "3. **Metrics Calculation**: Evaluating the performance and utility of the generated RDF graph through visualizations and metrics."
   ]
  },
  {
   "cell_type": "markdown",
   "id": "647fea21-afd2-483c-8852-0c881add00c7",
   "metadata": {},
   "source": [
    "Uncomment the following line if you haven't installed the necessary dependencies yet."
   ]
  },
  {
   "cell_type": "code",
   "execution_count": 7,
   "id": "6c32bcb6881f9ebf",
   "metadata": {
    "jupyter": {
     "is_executing": true
    }
   },
   "outputs": [],
   "source": [
    "# Install the required packages\n",
    "# !pip install -r requirements.txt"
   ]
  },
  {
   "cell_type": "markdown",
   "id": "6b683cea-da83-435e-baaf-4d41a4468c68",
   "metadata": {},
   "source": [
    "Dependencies may include libraries for RDF processing, machine learning, and graph visualization."
   ]
  },
  {
   "cell_type": "code",
   "execution_count": 1,
   "id": "654e8c6496a946af",
   "metadata": {
    "ExecuteTime": {
     "end_time": "2024-12-15T17:49:13.885101Z",
     "start_time": "2024-12-15T17:48:59.808779Z"
    }
   },
   "outputs": [],
   "source": [
    "# Importing required libraries\n",
    "import requests  # For making HTTP requests to external APIs\n",
    "import rdflib  # For working with RDF data and generating RDF graphs\n",
    "import networkx as nx  # For graph-based learning and visualization\n",
    "import matplotlib.pyplot as plt  # For creating visualizations such as plots and graphs\n",
    "import pandas as pd  # For data manipulation and analysis\n",
    "import numpy as np  # For numerical operations and handling arrays\n",
    "from sklearn.metrics import classification_report, roc_auc_score  # For evaluating model performance\n",
    "import os  # For interacting with the file system"
   ]
  },
  {
   "cell_type": "code",
   "execution_count": 2,
   "id": "fd2ce626cd63f2f4",
   "metadata": {
    "ExecuteTime": {
     "end_time": "2024-12-15T17:49:13.900394Z",
     "start_time": "2024-12-15T17:49:13.889098Z"
    }
   },
   "outputs": [],
   "source": [
    "# Constants and Configuration\n",
    "\n",
    "# The base URL for the API that generates RDF data\n",
    "API_URL = \"http://api:8080/api/v1/rdf/gi/generate-rdf\"\n",
    "\n",
    "# File paths for storing the RDF output and the generated graph\n",
    "RDF_OUTPUT_FILE = \"output.ttl\"\n",
    "GRAPH_OUTPUT_FILE = \"graph.gpickle\"\n",
    "SPARQL_OUTPUT_FILE = \"sparql_results.ttl\""
   ]
  },
  {
   "cell_type": "markdown",
   "id": "dc9eee35-4217-4b8e-805f-eb8b69642a09",
   "metadata": {},
   "source": [
    "These paths are used to save the results of the RDF transformation and graph learning process."
   ]
  },
  {
   "cell_type": "markdown",
   "id": "21ae371d-4e49-4f5c-a43e-5114ae662f19",
   "metadata": {},
   "source": [
    "## Load Input Data"
   ]
  },
  {
   "cell_type": "markdown",
   "id": "e93acc8a196eb624",
   "metadata": {},
   "source": [
    "To visualise the generated RDF data, we can load the data into apache jena fuseki and execute SPARQL queries to extract information from the RDF data.\n",
    "\n",
    "For this we have to create the dataset Apache Jena Fuseki and load the RDF data into the dataset.\n",
    "\n",
    "Go to the Apache Jena Fuseki dashboard at `http://localhost:3030/` and create a new dataset named `dataset` with the default settings, as in the image below:\n",
    "\n",
    "![Apache Jena Fuseki Dashboard](images/apache-jena-fuseki-dashboard.png)\n",
    "\n",
    "\n"
   ]
  },
  {
   "cell_type": "markdown",
   "id": "a1b8577d-613a-446b-9208-97f53e2589e8",
   "metadata": {},
   "source": [
    "The JSON input data represents devices, sensors, actuators, and events in a smart environment.\n",
    "\n",
    "This data represents interactions between these entities and will be processed to generate RDF."
   ]
  },
  {
   "cell_type": "code",
   "execution_count": 3,
   "id": "b1c50b90-4aad-4097-9390-5004a82479e7",
   "metadata": {
    "ExecuteTime": {
     "end_time": "2024-12-15T17:49:13.934417Z",
     "start_time": "2024-12-15T17:49:13.906419Z"
    }
   },
   "outputs": [],
   "source": [
    "import random\n",
    "import uuid\n",
    "import json\n",
    "from datetime import datetime, timedelta"
   ]
  },
  {
   "cell_type": "code",
   "execution_count": 40,
   "id": "2a7d6ccc76c69895",
   "metadata": {
    "ExecuteTime": {
     "end_time": "2024-12-15T17:49:13.974879Z",
     "start_time": "2024-12-15T17:49:13.940457Z"
    }
   },
   "outputs": [],
   "source": [
    "# Define the JSON input\n",
    "json_input = {\n",
    "    \"dataModel\": \"source_a\",  # Data model identifier\n",
    "    \"jsonData\": {\n",
    "        \"devices\": [\n",
    "            {\n",
    "                \"id\": \"dev_001\",  # Device identifier\n",
    "                \"name\": \"Primary Device\",  # Device name\n",
    "                \"serialNumber\": \"SN123456\",  # Serial number of the device\n",
    "                \"owner\": \"usr_001\"  # Owner identifier of the device\n",
    "            }\n",
    "        ],\n",
    "        \"actuators\": [\n",
    "            {\n",
    "                \"id\": \"act_001\",  # Actuator identifier\n",
    "                \"deviceId\": \"dev_001\"  # Associated device identifier\n",
    "            }\n",
    "        ],\n",
    "        \"uiDevices\": [\n",
    "            {\n",
    "                \"id\": \"ui_001\",  # UI Device identifier\n",
    "                \"sensorId\": \"sens_001\",  # Associated sensor identifier\n",
    "                \"actuatorId\": \"act_001\",  # Associated actuator identifier\n",
    "                \"deviceId\": \"dev_001\"  # Associated device identifier\n",
    "            }\n",
    "        ],\n",
    "        \"sensors\": [\n",
    "            {\n",
    "                \"id\": \"sens_001\",  # Sensor identifier\n",
    "                \"type\": \"TEMPERATURE\",  # Sensor type\n",
    "                \"location\": \"Living Room\",  # Sensor location\n",
    "                \"threshold\": 35.0,  # Threshold for sensor values\n",
    "                \"deviceId\": \"dev_001\"  # Associated device identifier\n",
    "            }\n",
    "        ],\n",
    "        \"events\": [\n",
    "            {\n",
    "                \"timestamp\": \"2021-09-29T11:19:11.788Z\",  # Event timestamp\n",
    "                \"id\": \"evt_001\",  # Event identifier\n",
    "                \"userId\": \"usr_002\",  # User associated with the event\n",
    "                \"assetId\": \"asset_001\",  # Associated asset\n",
    "                \"dimension\": \"VALUE\",  # Event dimension (e.g., temperature)\n",
    "                \"value\": 28.7,  # Event value (e.g., sensor reading)\n",
    "                \"originId\": \"sens_001\",  # Originating sensor\n",
    "                \"originType\": \"TEMPERATURE\"  # Type of originating sensor\n",
    "            },\n",
    "            {\n",
    "                \"timestamp\": \"2024-06-01T00:00:00.000Z\",  # Event timestamp\n",
    "                \"id\": \"evt_002\",  # Event identifier\n",
    "                \"userId\": \"usr_003\",  # User associated with the event\n",
    "                \"assetId\": \"asset_002\",  # Associated asset\n",
    "                \"dimension\": \"VALUE\",  # Event dimension (e.g., humidity)\n",
    "                \"value\": 38.24,  # Event value (e.g., sensor reading)\n",
    "                \"originId\": \"sens_002\",  # Originating sensor\n",
    "                \"originType\": \"HUMIDITY\"  # Type of originating sensor\n",
    "            }\n",
    "        ]\n",
    "    }\n",
    "}"
   ]
  },
  {
   "cell_type": "markdown",
   "id": "32bb993b-b1ec-49b9-a705-4021773c72a2",
   "metadata": {},
   "source": [
    "Generate random data for demonstration purposes."
   ]
  },
  {
   "cell_type": "code",
   "execution_count": 5,
   "id": "42f9fc95-3b63-4eb0-be1a-d645145f97aa",
   "metadata": {
    "ExecuteTime": {
     "end_time": "2024-12-15T17:49:42.115427Z",
     "start_time": "2024-12-15T17:49:33.334694Z"
    }
   },
   "outputs": [
    {
     "name": "stdout",
     "output_type": "stream",
     "text": [
      "Generated data saved to generated_data.json\n"
     ]
    }
   ],
   "source": [
    "# Base JSON input\n",
    "json_input = {\n",
    "    \"dataModel\": \"source_a\",\n",
    "    \"jsonData\": {\n",
    "        \"devices\": [],\n",
    "        \"actuators\": [],\n",
    "        \"uiDevices\": [],\n",
    "        \"sensors\": [],\n",
    "        \"events\": []\n",
    "    }\n",
    "}\n",
    "\n",
    "# Utility functions to generate random data\n",
    "def random_date(start, end):\n",
    "    delta = end - start\n",
    "    random_days = random.randint(0, delta.days)\n",
    "    random_seconds = random.randint(0, 86400)\n",
    "    return (start + timedelta(days=random_days, seconds=random_seconds)).isoformat() + \"Z\"\n",
    "\n",
    "def generate_devices(count):\n",
    "    devices = []\n",
    "    for _ in range(count):\n",
    "        device_id = f\"dev_{uuid.uuid4().hex[:8]}\"\n",
    "        devices.append({\n",
    "            \"id\": device_id,\n",
    "            \"name\": f\"Device {uuid.uuid4().hex[:4]}\",\n",
    "            \"serialNumber\": f\"SN{random.randint(100000, 999999)}\",\n",
    "            \"owner\": f\"usr_{random.randint(1, 100)}\"\n",
    "        })\n",
    "    return devices\n",
    "\n",
    "def generate_sensors(devices, count):\n",
    "    sensor_types = [\"TEMPERATURE\", \"HUMIDITY\"]\n",
    "    sensors = []\n",
    "    for _ in range(count):\n",
    "        device = random.choice(devices)\n",
    "        sensors.append({\n",
    "            \"id\": f\"sens_{uuid.uuid4().hex[:8]}\",\n",
    "            \"type\": random.choice(sensor_types),\n",
    "            \"location\": f\"Location {random.randint(1, 10)}\",\n",
    "            \"threshold\": round(random.uniform(10.0, 50.0), 2),\n",
    "            \"deviceId\": device[\"id\"]\n",
    "        })\n",
    "    return sensors\n",
    "\n",
    "def generate_actuators(devices, count):\n",
    "    actuators = []\n",
    "    for _ in range(count):\n",
    "        device = random.choice(devices)\n",
    "        actuators.append({\n",
    "            \"id\": f\"act_{uuid.uuid4().hex[:8]}\",\n",
    "            \"deviceId\": device[\"id\"]\n",
    "        })\n",
    "    return actuators\n",
    "\n",
    "def generate_ui_devices(sensors, actuators, devices, count):\n",
    "    ui_devices = []\n",
    "    for _ in range(count):\n",
    "        sensor = random.choice(sensors)\n",
    "        actuator = random.choice(actuators)\n",
    "        device = random.choice(devices)\n",
    "        ui_devices.append({\n",
    "            \"id\": f\"ui_{uuid.uuid4().hex[:8]}\",\n",
    "            \"sensorId\": sensor[\"id\"],\n",
    "            \"actuatorId\": actuator[\"id\"],\n",
    "            \"deviceId\": device[\"id\"]\n",
    "        })\n",
    "    return ui_devices\n",
    "\n",
    "def generate_events(sensors, count):\n",
    "    events = []\n",
    "    for _ in range(count):\n",
    "        sensor = random.choice(sensors)\n",
    "        events.append({\n",
    "            \"timestamp\": random_date(datetime(2020, 1, 1), datetime(2024, 12, 31)),\n",
    "            \"id\": f\"evt_{uuid.uuid4().hex[:8]}\",\n",
    "            \"userId\": f\"usr_{random.randint(1, 100)}\",\n",
    "            \"assetId\": f\"asset_{uuid.uuid4().hex[:8]}\",\n",
    "            \"dimension\": \"VALUE\",\n",
    "            \"value\": round(random.uniform(0.0, 100.0), 2),\n",
    "            \"originId\": sensor[\"id\"],\n",
    "            \"originType\": sensor[\"type\"]\n",
    "        })\n",
    "    return events\n",
    "\n",
    "# Generate thousands of records\n",
    "def generate_records():\n",
    "    devices = generate_devices(500)\n",
    "    sensors = generate_sensors(devices, 1000)\n",
    "    actuators = generate_actuators(devices, 500)\n",
    "    ui_devices = generate_ui_devices(sensors, actuators, devices, 500)\n",
    "    events = generate_events(sensors, 30000)\n",
    "\n",
    "    json_input[\"jsonData\"][\"devices\"] = devices\n",
    "    json_input[\"jsonData\"][\"sensors\"] = sensors\n",
    "    json_input[\"jsonData\"][\"actuators\"] = actuators\n",
    "    json_input[\"jsonData\"][\"uiDevices\"] = ui_devices\n",
    "    json_input[\"jsonData\"][\"events\"] = events\n",
    "\n",
    "    return json_input\n",
    "\n",
    "json_input = generate_records()\n",
    "with open(\"generated_data.json\", \"w\") as file:\n",
    "    json.dump(json_input, file, indent=4)\n",
    "print(\"Generated data saved to generated_data.json\")"
   ]
  },
  {
   "cell_type": "code",
   "execution_count": 8,
   "id": "68e014d74d5c285",
   "metadata": {},
   "outputs": [
    {
     "name": "stdout",
     "output_type": "stream",
     "text": [
      "RDF generation successful. Saved to: output.ttl\n"
     ]
    }
   ],
   "source": [
    "# Call the external API for RDF generation\n",
    "def generate_rdf(json_data):\n",
    "    \"\"\"\n",
    "    Send JSON input to the external RML API and receive RDF in turtle format.\n",
    "    \"\"\"\n",
    "    response = requests.post(API_URL, json=json_data)\n",
    "    if response.status_code == 200:\n",
    "        # Save RDF to file\n",
    "        with open(RDF_OUTPUT_FILE, \"w\") as rdf_file:\n",
    "            rdf_file.write(response.text)\n",
    "        print(\"RDF generation successful. Saved to:\", RDF_OUTPUT_FILE)\n",
    "    else:\n",
    "        print(\"RDF generation failed with status code:\", response.status_code)\n",
    "        response.raise_for_status()\n",
    "\n",
    "generate_rdf(json_input)"
   ]
  },
  {
   "cell_type": "code",
   "execution_count": 9,
   "id": "6216d76d-28d0-48fe-8acb-c7d348123591",
   "metadata": {
    "ExecuteTime": {
     "end_time": "2024-12-15T18:00:15.625865Z",
     "start_time": "2024-12-15T18:00:15.603742Z"
    }
   },
   "outputs": [],
   "source": [
    "# Call the Apache Jena API for SPARQL execution\n",
    "def execute_sparql_query(sparql_query):\n",
    "    \"\"\"\n",
    "    Send SPARQL query to the Apache Jena API at localhost:3030 and receive results.\n",
    "    \"\"\"\n",
    "    API_URL = \"http://fuseki:3030/dataset/sparql\"\n",
    "    headers = {\"Content-Type\": \"application/sparql-query\"}\n",
    "\n",
    "    response = requests.post(API_URL, data=sparql_query, headers=headers)\n",
    "\n",
    "    if response.status_code == 200:\n",
    "        # Save results to file\n",
    "        with open(SPARQL_OUTPUT_FILE, \"w\") as rdf_file:\n",
    "            rdf_file.write(response.text)\n",
    "        print(\"SPARQL query execution successful. Results saved to:\", SPARQL_OUTPUT_FILE)\n",
    "    else:\n",
    "        print(\"SPARQL query execution failed with status code:\", response.status_code)\n",
    "        response.raise_for_status()"
   ]
  },
  {
   "cell_type": "code",
   "execution_count": 10,
   "id": "d449c8b1-6954-4016-adf4-f4f4b8d16587",
   "metadata": {
    "ExecuteTime": {
     "end_time": "2024-12-15T18:00:26.976629Z",
     "start_time": "2024-12-15T18:00:22.432903Z"
    }
   },
   "outputs": [
    {
     "name": "stdout",
     "output_type": "stream",
     "text": [
      "SPARQL query execution successful. Results saved to: sparql_results.ttl\n"
     ]
    }
   ],
   "source": [
    "sparql_query = \"\"\"\n",
    "PREFIX sosa: <http://www.w3.org/ns/sosa/>\n",
    "PREFIX fhir: <http://hl7.org/fhir/>\n",
    "PREFIX xsd: <http://www.w3.org/2001/XMLSchema#>\n",
    "PREFIX ucum: <http://unitsofmeasure.org/>\n",
    "\n",
    "SELECT ?observation ?sensor ?property ?result ?unit ?time\n",
    "WHERE {\n",
    "  ?observation a sosa:Observation ;\n",
    "               sosa:madeBySensor ?sensor ;\n",
    "               sosa:observedProperty ?property ;\n",
    "               sosa:hasSimpleResult ?result ;\n",
    "               sosa:resultTime ?time .\n",
    "  \n",
    "  OPTIONAL {\n",
    "    ?sensor sosa:hasSimpleResult ?unit .\n",
    "  }\n",
    "}\n",
    "\"\"\"\n",
    "\n",
    "execute_sparql_query(sparql_query)"
   ]
  },
  {
   "cell_type": "code",
   "execution_count": 11,
   "id": "e450908d20367de2",
   "metadata": {
    "ExecuteTime": {
     "end_time": "2024-12-15T18:00:39.087244Z",
     "start_time": "2024-12-15T18:00:39.074713Z"
    }
   },
   "outputs": [
    {
     "name": "stdout",
     "output_type": "stream",
     "text": [
      "{\n",
      "  \"observation\": {\n",
      "    \"type\": \"uri\",\n",
      "    \"value\": \"http://hultig.ubi.pt/ontology/source_a/sensormeasurementevent/evt_002\"\n",
      "  },\n",
      "  \"sensor\": {\n",
      "    \"type\": \"uri\",\n",
      "    \"value\": \"http://hultig.ubi.pt/ontology/source_a/sensor/sens_002\"\n",
      "  },\n",
      "  \"property\": {\n",
      "    \"type\": \"uri\",\n",
      "    \"value\": \"http://www.w3.org/ns/sosa/Property_Humidity\"\n",
      "  },\n",
      "  \"result\": {\n",
      "    \"type\": \"literal\",\n",
      "    \"datatype\": \"http://unitsofmeasure.org/Percent\",\n",
      "    \"value\": \"38.24\"\n",
      "  },\n",
      "  \"time\": {\n",
      "    \"type\": \"literal\",\n",
      "    \"datatype\": \"http://www.w3.org/2001/XMLSchema#dateTime\",\n",
      "    \"value\": \"2024-06-01T00:00:00Z\"\n",
      "  }\n",
      "}\n"
     ]
    }
   ],
   "source": [
    "# Load first 5 results\n",
    "import json\n",
    "\n",
    "# JSON data\n",
    "sparql_results = {\n",
    "    \"head\": {\n",
    "        \"vars\": [\"observation\", \"sensor\", \"property\", \"result\", \"unit\", \"time\"]\n",
    "    },\n",
    "    \"results\": {\n",
    "        \"bindings\": [\n",
    "            {\n",
    "                \"observation\": {\"type\": \"uri\", \"value\": \"http://hultig.ubi.pt/ontology/source_a/sensormeasurementevent/evt_002\"},\n",
    "                \"sensor\": {\"type\": \"uri\", \"value\": \"http://hultig.ubi.pt/ontology/source_a/sensor/sens_002\"},\n",
    "                \"property\": {\"type\": \"uri\", \"value\": \"http://www.w3.org/ns/sosa/Property_Humidity\"},\n",
    "                \"result\": {\"type\": \"literal\", \"datatype\": \"http://unitsofmeasure.org/Percent\", \"value\": \"38.24\"},\n",
    "                \"time\": {\"type\": \"literal\", \"datatype\": \"http://www.w3.org/2001/XMLSchema#dateTime\", \"value\": \"2024-06-01T00:00:00Z\"}\n",
    "            }\n",
    "        ]\n",
    "    }\n",
    "}\n",
    "\n",
    "# Extract the first 5 results\n",
    "bindings = sparql_results[\"results\"][\"bindings\"][:5]\n",
    "\n",
    "# Print the results\n",
    "for binding in bindings:\n",
    "    print(json.dumps(binding, indent=2))"
   ]
  },
  {
   "cell_type": "markdown",
   "id": "af0d26cc2d45b1d2",
   "metadata": {},
   "source": [
    "## Graph Construction\n",
    "\n",
    "We will use `rdflib` to parse RDF data and construct a graph using `networkx`. The graph will represent entities and their relationships derived from the RDF triples.\n",
    "\n",
    "For example we have the following RDF data:"
   ]
  },
  {
   "cell_type": "code",
   "execution_count": 12,
   "id": "91bb72892dcddfcc",
   "metadata": {
    "ExecuteTime": {
     "end_time": "2024-12-15T18:00:46.619726Z",
     "start_time": "2024-12-15T18:00:46.587568Z"
    }
   },
   "outputs": [],
   "source": [
    "# Convert RDF to NetworkX graph\n",
    "def rdf_to_graph(rdf_graph):\n",
    "    \"\"\"\n",
    "    Convert RDF triples to a NetworkX graph.\n",
    "    \"\"\"\n",
    "    nx_graph = nx.DiGraph()\n",
    "    for subj, pred, obj in rdf_graph:\n",
    "        nx_graph.add_edge(str(subj), str(obj), predicate=str(pred))\n",
    "    print(\"Converted RDF to NetworkX graph with\", len(nx_graph.nodes), \"nodes and\", len(nx_graph.edges), \"edges.\")\n",
    "    return nx_graph\n"
   ]
  },
  {
   "cell_type": "code",
   "execution_count": 13,
   "id": "287638bf39e2ea66",
   "metadata": {
    "ExecuteTime": {
     "end_time": "2024-12-15T18:00:47.984229Z",
     "start_time": "2024-12-15T18:00:47.967265Z"
    }
   },
   "outputs": [
    {
     "name": "stderr",
     "output_type": "stream",
     "text": [
      "IOPub data rate exceeded.\n",
      "The Jupyter server will temporarily stop sending output\n",
      "to the client in order to avoid crashing it.\n",
      "To change this limit, set the config variable\n",
      "`--ServerApp.iopub_data_rate_limit`.\n",
      "\n",
      "Current values:\n",
      "ServerApp.iopub_data_rate_limit=1000000.0 (bytes/sec)\n",
      "ServerApp.rate_limit_window=3.0 (secs)\n",
      "\n"
     ]
    }
   ],
   "source": [
    "with open(RDF_OUTPUT_FILE, \"r\") as rdf_file:\n",
    "    rdf_content = rdf_file.read()\n",
    "    print(rdf_content)"
   ]
  },
  {
   "cell_type": "code",
   "execution_count": 14,
   "id": "ab379cb6c900e3e2",
   "metadata": {
    "ExecuteTime": {
     "end_time": "2024-12-15T18:00:51.199651Z",
     "start_time": "2024-12-15T18:00:51.187252Z"
    }
   },
   "outputs": [],
   "source": [
    "from rdflib import Graph, Literal\n",
    "from rdflib.namespace import XSD"
   ]
  },
  {
   "cell_type": "code",
   "execution_count": 18,
   "id": "a9516123c0a70122",
   "metadata": {
    "ExecuteTime": {
     "end_time": "2024-12-15T18:00:51.906104Z",
     "start_time": "2024-12-15T18:00:51.882037Z"
    }
   },
   "outputs": [],
   "source": [
    "def calculate_semantic_metrics(rdf_file):\n",
    "    \"\"\"\n",
    "    Calculate semantic metrics for RDF data with handling for invalid literals.\n",
    "    \"\"\"\n",
    "    g = Graph()\n",
    "    g.parse(rdf_file, format=\"turtle\")\n",
    "    total_triples = len(g)\n",
    "\n",
    "    # Define relevant vocabularies for semantic enrichment\n",
    "    vocabularies = [\n",
    "        \"http://www.w3.org/ns/sosa/\",\n",
    "        \"http://hl7.org/fhir/\",\n",
    "        \"http://schema.org/\",\n",
    "    ]\n",
    "\n",
    "    # Count triples that use semantic vocabularies\n",
    "    semantic_triples = 0\n",
    "    vocab_usage = {vocab: 0 for vocab in vocabularies}\n",
    "\n",
    "    for s, p, o in g:\n",
    "        try:\n",
    "            # Attempt to convert the literal value to its datatype\n",
    "            if isinstance(o, Literal) and o.datatype == XSD.dateTime:\n",
    "                # Validate date-time\n",
    "                o.toPython()\n",
    "        except Exception as e:\n",
    "            print(f\"Invalid value detected: {o} - Error: {e}\")\n",
    "\n",
    "        for vocab in vocabularies:\n",
    "            if vocab in str(p) or vocab in str(o):\n",
    "                semantic_triples += 1\n",
    "                vocab_usage[vocab] += 1\n",
    "\n",
    "    # Calculate semantic completeness\n",
    "    semantic_completeness = (semantic_triples / total_triples) * 100\n",
    "\n",
    "    # Display results\n",
    "    print(\"Total Triples:\", total_triples)\n",
    "    print(\"Semantic Triples:\", semantic_triples)\n",
    "    print(\"Semantic Completeness (%):\", round(semantic_completeness, 2))\n",
    "    print(\"\\nVocabulary Usage:\")\n",
    "    for vocab, count in vocab_usage.items():\n",
    "        print(f\"  {vocab}: {count} triples\")\n",
    "\n",
    "    return semantic_completeness, vocab_usage"
   ]
  },
  {
   "cell_type": "code",
   "execution_count": 19,
   "id": "c6063690681fca2e",
   "metadata": {
    "ExecuteTime": {
     "end_time": "2024-12-15T18:00:53.355202Z",
     "start_time": "2024-12-15T18:00:53.288646Z"
    }
   },
   "outputs": [
    {
     "name": "stdout",
     "output_type": "stream",
     "text": [
      "Total Triples: 18\n",
      "Semantic Triples: 6\n",
      "Semantic Completeness (%): 33.33\n",
      "\n",
      "Vocabulary Usage:\n",
      "  http://www.w3.org/ns/sosa/: 0 triples\n",
      "  http://hl7.org/fhir/: 0 triples\n",
      "  http://schema.org/: 6 triples\n"
     ]
    },
    {
     "data": {
      "text/plain": [
       "(33.33333333333333,\n",
       " {'http://www.w3.org/ns/sosa/': 0,\n",
       "  'http://hl7.org/fhir/': 0,\n",
       "  'http://schema.org/': 6})"
      ]
     },
     "execution_count": 19,
     "metadata": {},
     "output_type": "execute_result"
    }
   ],
   "source": [
    "input_rdf_file = \"input.ttl\"\n",
    "calculate_semantic_metrics(input_rdf_file)"
   ]
  },
  {
   "cell_type": "code",
   "execution_count": 20,
   "id": "952a14277769032b",
   "metadata": {
    "ExecuteTime": {
     "end_time": "2024-12-15T18:00:54.912078Z",
     "start_time": "2024-12-15T18:00:54.878333Z"
    }
   },
   "outputs": [
    {
     "name": "stdout",
     "output_type": "stream",
     "text": [
      "Total Triples: 187000\n",
      "Semantic Triples: 187000\n",
      "Semantic Completeness (%): 100.0\n",
      "\n",
      "Vocabulary Usage:\n",
      "  http://www.w3.org/ns/sosa/: 141227 triples\n",
      "  http://hl7.org/fhir/: 45773 triples\n",
      "  http://schema.org/: 0 triples\n"
     ]
    },
    {
     "data": {
      "text/plain": [
       "(100.0,\n",
       " {'http://www.w3.org/ns/sosa/': 141227,\n",
       "  'http://hl7.org/fhir/': 45773,\n",
       "  'http://schema.org/': 0})"
      ]
     },
     "execution_count": 20,
     "metadata": {},
     "output_type": "execute_result"
    }
   ],
   "source": [
    "output_rdf_file = \"output.ttl\"\n",
    "calculate_semantic_metrics(output_rdf_file)"
   ]
  },
  {
   "cell_type": "code",
   "execution_count": 21,
   "id": "536b0f6bb746f337",
   "metadata": {
    "ExecuteTime": {
     "end_time": "2024-12-15T18:00:57.633934Z",
     "start_time": "2024-12-15T18:00:56.216572Z"
    }
   },
   "outputs": [
    {
     "data": {
      "image/png": "[encoded data removed]",
      "text/plain": [
       "<Figure size 800x800 with 1 Axes>"
      ]
     },
     "metadata": {},
     "output_type": "display_data"
    }
   ],
   "source": [
    "import rdflib\n",
    "import networkx as nx\n",
    "import matplotlib.pyplot as plt\n",
    "\n",
    "# Example RDF data (you can replace this with your RDF content)\n",
    "sample_rdf_data = \"\"\"\n",
    "@prefix ex: <http://example.org/> .\n",
    "ex:dev_001 ex:hasDeviceName \"Primary Device\" .\n",
    "ex:dev_001 ex:hasOwner ex:usr_001 .\n",
    "ex:usr_001 ex:hasUserName \"User One\" .\n",
    "\"\"\"\n",
    "\n",
    "# Create a graph from RDF data\n",
    "sample_graph = rdflib.Graph()\n",
    "sample_graph.parse(data=sample_rdf_data, format=\"turtle\")\n",
    "\n",
    "# Convert RDF graph into a NetworkX graph\n",
    "sample_nx_graph = nx.Graph()\n",
    "\n",
    "# Add nodes and edges from RDF triples\n",
    "for subj, pred, obj in sample_graph:\n",
    "    # Convert RDF resources to strings\n",
    "    subj = str(subj)\n",
    "    obj = str(obj)\n",
    "\n",
    "    # Add nodes (subjects and objects)\n",
    "    sample_nx_graph.add_node(subj)\n",
    "    sample_nx_graph.add_node(obj)\n",
    "\n",
    "    # Add edge between subject and object (predicate is the relationship)\n",
    "    sample_nx_graph.add_edge(subj, obj, label=str(pred))\n",
    "\n",
    "# Visualize the graph\n",
    "plt.figure(figsize=(8, 8))\n",
    "nx.draw(sample_nx_graph, with_labels=True, node_size=2000, node_color='skyblue', font_size=10)\n",
    "plt.title(\"Graph constructed from RDF data\")\n",
    "plt.show()\n"
   ]
  },
  {
   "cell_type": "code",
   "execution_count": 22,
   "id": "9be2f06c9e1b8cf4",
   "metadata": {
    "ExecuteTime": {
     "end_time": "2024-12-15T18:00:58.762849Z",
     "start_time": "2024-12-15T18:00:58.728976Z"
    }
   },
   "outputs": [
    {
     "name": "stdout",
     "output_type": "stream",
     "text": [
      "Converted RDF to NetworkX graph with 73143 nodes and 187000 edges.\n",
      "Converted RDF to NetworkX graph and saved to graph.gpickle.\n"
     ]
    }
   ],
   "source": [
    "import rdflib\n",
    "import networkx as nx\n",
    "import pickle\n",
    "\n",
    "# Parse RDF file\n",
    "rdf_graph = rdflib.Graph()\n",
    "rdf_graph.parse(RDF_OUTPUT_FILE, format=\"turtle\")\n",
    "\n",
    "# Convert RDF to NetworkX graph\n",
    "nx_graph = rdf_to_graph(rdf_graph)\n",
    "\n",
    "# Write NetworkX graph to pickle file\n",
    "with open(GRAPH_OUTPUT_FILE, 'wb') as f:\n",
    "    pickle.dump(nx_graph, f, pickle.HIGHEST_PROTOCOL)\n",
    "\n",
    "print(f\"Converted RDF to NetworkX graph and saved to {GRAPH_OUTPUT_FILE}.\")\n"
   ]
  },
  {
   "cell_type": "code",
   "execution_count": 23,
   "id": "c55d37e289512497",
   "metadata": {
    "ExecuteTime": {
     "end_time": "2024-12-15T18:01:00.470581Z",
     "start_time": "2024-12-15T18:01:00.463355Z"
    }
   },
   "outputs": [],
   "source": [
    "# Visualize the graph - For large graphs, consider sampling or filtering nodes\n",
    "# def visualize_graph(graph):\n",
    "#     \"\"\"\n",
    "#     Visualize the graph using NetworkX.\n",
    "#     \"\"\"\n",
    "#     plt.figure(figsize=(12, 8))\n",
    "#     pos = nx.spring_layout(graph)\n",
    "#     nx.draw(graph, pos, with_labels=True, node_size=700, node_color=\"lightblue\", font_size=10, font_weight=\"bold\")\n",
    "#     edge_labels = nx.get_edge_attributes(graph, \"predicate\")\n",
    "#     nx.draw_networkx_edge_labels(graph, pos, edge_labels=edge_labels, font_size=8)\n",
    "#     plt.title(\"Knowledge Graph Visualization\")\n",
    "#     plt.show()\n",
    "# \n",
    "# visualize_graph(nx_graph)"
   ]
  },
  {
   "cell_type": "code",
   "execution_count": 24,
   "id": "7f1e252455e8cdec",
   "metadata": {
    "ExecuteTime": {
     "end_time": "2024-12-15T18:01:01.536233Z",
     "start_time": "2024-12-15T18:01:01.514375Z"
    }
   },
   "outputs": [
    {
     "name": "stdout",
     "output_type": "stream",
     "text": [
      "\n",
      "--- Metrics ---\n",
      "Number of Nodes: 73143\n",
      "Number of Edges: 187000\n",
      "Average Node Degree: 5.11\n"
     ]
    }
   ],
   "source": [
    "def calculate_metrics(graph):\n",
    "    \"\"\"\n",
    "    Calculate and display key metrics for the RDF graph.\n",
    "    \"\"\"\n",
    "    # Graph structure metrics\n",
    "    num_nodes = len(graph.nodes)\n",
    "    num_edges = len(graph.edges)\n",
    "    avg_degree = sum(dict(graph.degree).values()) / num_nodes\n",
    "\n",
    "    # Report metrics\n",
    "    print(\"\\n--- Metrics ---\")\n",
    "    print(f\"Number of Nodes: {num_nodes}\")\n",
    "    print(f\"Number of Edges: {num_edges}\")\n",
    "    print(f\"Average Node Degree: {avg_degree:.2f}\")\n",
    "\n",
    "calculate_metrics(nx_graph)"
   ]
  },
  {
   "cell_type": "markdown",
   "id": "aa07f4c8993d957a",
   "metadata": {},
   "source": [
    "## Feature Engineering\n",
    "\n",
    "Features are extracted from RDF triples to represent nodes in a format suitable for graph neural networks (GNNs)."
   ]
  },
  {
   "cell_type": "code",
   "execution_count": 25,
   "id": "f49c6bf2f687388d",
   "metadata": {
    "ExecuteTime": {
     "end_time": "2024-12-15T18:01:03.177676Z",
     "start_time": "2024-12-15T18:01:03.151904Z"
    }
   },
   "outputs": [],
   "source": [
    "# Uncomment the following line if you haven't installed the necessary dependencies yet.\n",
    "# !pip install torch\n",
    "# !pip install torch-scatter torch-sparse torch-cluster torch-spline-conv torch-geometric -f https://data.pyg.org/whl/torch-1.13.0+cu116.html"
   ]
  },
  {
   "cell_type": "code",
   "execution_count": null,
   "id": "c402acdb2ce64162",
   "metadata": {
    "ExecuteTime": {
     "end_time": "2024-12-15T18:01:04.247708Z",
     "start_time": "2024-12-15T18:01:04.227295Z"
    },
    "scrolled": true
   },
   "outputs": [],
   "source": [
    "for node in nx_graph.nodes:\n",
    "    print(type(node), node)\n",
    "\n",
    "node_to_index = {node.lower(): i for i, node in enumerate(nx_graph.nodes)}\n",
    "# print(node_to_index)\n"
   ]
  },
  {
   "cell_type": "code",
   "execution_count": 27,
   "id": "489506deec78311d",
   "metadata": {
    "ExecuteTime": {
     "end_time": "2024-12-15T18:01:15.875963Z",
     "start_time": "2024-12-15T18:01:04.752181Z"
    }
   },
   "outputs": [
    {
     "name": "stdout",
     "output_type": "stream",
     "text": [
      "Data(x=[73143, 10], edge_index=[2, 187000])\n"
     ]
    },
    {
     "name": "stderr",
     "output_type": "stream",
     "text": [
      "/tmp/ipykernel_22/1568693935.py:30: UserWarning: Creating a tensor from a list of numpy.ndarrays is extremely slow. Please consider converting the list to a single numpy.ndarray with numpy.array() before converting to a tensor. (Triggered internally at ../torch/csrc/utils/tensor_new.cpp:278.)\n",
      "  x = torch.tensor([node_features[node] for node in nx_graph.nodes], dtype=torch.float)\n"
     ]
    }
   ],
   "source": [
    "import numpy as np\n",
    "import torch\n",
    "from torch_geometric.data import Data\n",
    "from sklearn.preprocessing import LabelEncoder\n",
    "\n",
    "# Example: Create features for nodes\n",
    "node_features = {}\n",
    "for node in nx_graph.nodes:\n",
    "    # Simple feature extraction based on node label\n",
    "    if \"dev\" in node:\n",
    "        node_features[node] = np.random.rand(10)  # Random feature vector for device\n",
    "    else:\n",
    "        node_features[node] = np.zeros(10)  # Default feature for non-device nodes\n",
    "\n",
    "# Encode node labels to numeric indices using LabelEncoder\n",
    "node_labels = list(nx_graph.nodes)  # Extract all node labels\n",
    "label_encoder = LabelEncoder()\n",
    "encoded_labels = label_encoder.fit_transform(node_labels)\n",
    "\n",
    "# Create mapping from original node labels to numerical indices\n",
    "node_to_index = {node: idx for node, idx in zip(node_labels, encoded_labels)}\n",
    "\n",
    "# Convert edges to numerical indices using the mapping\n",
    "edge_index = [\n",
    "    [node_to_index[u], node_to_index[v]] for u, v in nx_graph.edges\n",
    "]\n",
    "edge_index = torch.tensor(edge_index, dtype=torch.long).t().contiguous()\n",
    "\n",
    "# Convert node features into a tensor\n",
    "x = torch.tensor([node_features[node] for node in nx_graph.nodes], dtype=torch.float)\n",
    "\n",
    "# Prepare the data for the GNN model\n",
    "data = Data(x=x, edge_index=edge_index)\n",
    "\n",
    "# Output the encoded data\n",
    "print(data)\n"
   ]
  },
  {
   "cell_type": "markdown",
   "id": "4aa107053bece863",
   "metadata": {},
   "source": [
    "## Model Training\n",
    "\n",
    "We will train a simple Graph Neural Network (GNN) model using the PyTorch Geometric library to classify patient risk levels based on graph structure and features."
   ]
  },
  {
   "cell_type": "code",
   "execution_count": 28,
   "id": "47ad4d6a31693d6d",
   "metadata": {
    "ExecuteTime": {
     "end_time": "2024-12-15T18:01:34.010084Z",
     "start_time": "2024-12-15T18:01:33.945244Z"
    }
   },
   "outputs": [
    {
     "name": "stdout",
     "output_type": "stream",
     "text": [
      "Epoch 0, Loss: 0.6934720873832703\n",
      "Epoch 20, Loss: 0.12588301301002502\n",
      "Epoch 40, Loss: 0.01260565035045147\n",
      "Epoch 60, Loss: 0.004330623894929886\n",
      "Epoch 80, Loss: 0.0027075521647930145\n",
      "Epoch 100, Loss: 0.002003533998504281\n",
      "Epoch 120, Loss: 0.001569866668432951\n",
      "Epoch 140, Loss: 0.0012684386456385255\n",
      "Epoch 160, Loss: 0.0010480392957106233\n",
      "Epoch 180, Loss: 0.0008817106136120856\n"
     ]
    }
   ],
   "source": [
    "import torch\n",
    "from torch_geometric.nn import GCNConv\n",
    "from torch_geometric.data import DataLoader\n",
    "\n",
    "# Define the GCN model\n",
    "class GCN(torch.nn.Module):\n",
    "    def __init__(self, input_dim, hidden_dim, output_dim):\n",
    "        super(GCN, self).__init__()\n",
    "        self.conv1 = GCNConv(input_dim, hidden_dim)\n",
    "        self.conv2 = GCNConv(hidden_dim, output_dim)\n",
    "\n",
    "    def forward(self, x, edge_index):\n",
    "        x = self.conv1(x, edge_index).relu()\n",
    "        x = self.conv2(x, edge_index)\n",
    "        return x\n",
    "\n",
    "# Initialize the model, loss, and optimizer\n",
    "input_dim = 10  # Feature vector size\n",
    "hidden_dim = 16\n",
    "output_dim = 2  # Example: node classification with 2 classes\n",
    "\n",
    "model = GCN(input_dim, hidden_dim, output_dim)\n",
    "optimizer = torch.optim.Adam(model.parameters(), lr=0.01)\n",
    "criterion = torch.nn.CrossEntropyLoss()\n",
    "\n",
    "# Example training loop (adapt for your task)\n",
    "for epoch in range(200):\n",
    "    model.train()\n",
    "    optimizer.zero_grad()\n",
    "    out = model(data.x, data.edge_index)\n",
    "    loss = criterion(out, torch.zeros(data.x.size(0), dtype=torch.long))  # Dummy target labels\n",
    "    loss.backward()\n",
    "    optimizer.step()\n",
    "\n",
    "    if epoch % 20 == 0:\n",
    "        print(f\"Epoch {epoch}, Loss: {loss.item()}\")\n"
   ]
  },
  {
   "cell_type": "markdown",
   "id": "363ec846965f4055",
   "metadata": {},
   "source": [
    "## Adaptation Triggering\n",
    "\n",
    "We will simulate the triggering of notifications or alerts for high-risk patients based on the model's classification results."
   ]
  },
  {
   "cell_type": "code",
   "execution_count": 29,
   "id": "23a6db007b365a8f",
   "metadata": {
    "ExecuteTime": {
     "end_time": "2024-12-15T18:01:15.883575Z",
     "start_time": "2024-12-15T18:01:15.882574Z"
    }
   },
   "outputs": [],
   "source": [
    "# Adaptation function to trigger alerts or actions based on predictions\n",
    "def trigger_adaptation(model, data):\n",
    "    model.eval()\n",
    "    with torch.no_grad():\n",
    "        out = model(data.x, data.edge_index)\n",
    "        predictions = torch.argmax(out, dim=1)\n",
    "\n",
    "        # Trigger adaptation based on predictions\n",
    "        if predictions[0] == 1:  # Example: if node 0 is predicted to be in class 1\n",
    "            print(\"Adaptation triggered: Alert! Environmental adjustment needed.\")\n",
    "        else:\n",
    "            print(\"Adaptation not triggered.\")"
   ]
  },
  {
   "cell_type": "code",
   "execution_count": 30,
   "id": "caa89b6b983fc8a9",
   "metadata": {},
   "outputs": [
    {
     "name": "stdout",
     "output_type": "stream",
     "text": [
      "Adaptation not triggered.\n"
     ]
    }
   ],
   "source": [
    "trigger_adaptation(model, data)"
   ]
  },
  {
   "cell_type": "markdown",
   "id": "2b57aeb386a06bc",
   "metadata": {},
   "source": [
    "## Evaluation\n",
    "\n",
    "We will evaluate the performance of the trained GNN model using metrics such as classification report.\n"
   ]
  },
  {
   "cell_type": "code",
   "execution_count": 37,
   "id": "f3c9aa7c00d02bb",
   "metadata": {
    "ExecuteTime": {
     "end_time": "2024-12-15T18:01:16.203616Z",
     "start_time": "2024-12-15T18:01:16.129411Z"
    }
   },
   "outputs": [
    {
     "name": "stdout",
     "output_type": "stream",
     "text": [
      "Classification Report:\n",
      "              precision    recall  f1-score   support\n",
      "\n",
      "           0       0.50      1.00      0.67     36834\n",
      "           1       0.00      0.00      0.00     36309\n",
      "\n",
      "    accuracy                           0.50     73143\n",
      "   macro avg       0.25      0.50      0.33     73143\n",
      "weighted avg       0.25      0.50      0.34     73143\n",
      "\n"
     ]
    }
   ],
   "source": [
    "from sklearn.metrics import classification_report\n",
    "import torch\n",
    "\n",
    "# Evaluate the model\n",
    "def evaluate_model(model, data):\n",
    "    model.eval()\n",
    "    with torch.no_grad():\n",
    "        out = model(data.x, data.edge_index)\n",
    "        predictions = torch.argmax(out, dim=1)\n",
    "\n",
    "        # Generate random target labels\n",
    "        num_classes = out.size(1)\n",
    "        target = torch.randint(0, num_classes, (data.x.size(0),), dtype=torch.long)\n",
    "\n",
    "        # Calculate evaluation metrics\n",
    "        report = classification_report(target, predictions, zero_division=0)\n",
    "\n",
    "        print(\"Classification Report:\")\n",
    "        print(report)\n",
    "\n",
    "# Call the function\n",
    "evaluate_model(model, data)\n"
   ]
  },
  {
   "cell_type": "markdown",
   "id": "533e6a5f7ca0ce28",
   "metadata": {},
   "source": [
    "## Continuous Learning Updating the Model With New Data\n",
    "\n",
    "In this part, we will add a component that listens for real-time data (simulated for now) and updates the model continuously. The model will be retrained periodically to adapt to new sensor readings or events."
   ]
  },
  {
   "cell_type": "code",
   "execution_count": 38,
   "id": "d21a47ae476904c3",
   "metadata": {
    "ExecuteTime": {
     "end_time": "2024-12-13T21:06:14.369617Z",
     "start_time": "2024-12-13T21:06:14.311805Z"
    }
   },
   "outputs": [],
   "source": [
    "import time\n",
    "import random\n",
    "from datetime import datetime\n",
    "from torch_geometric.data import DataLoader\n",
    "\n",
    "# Real-time data simulator (this would be replaced with real data collection in production)\n",
    "def get_new_sensor_data():\n",
    "    # Simulating new sensor data (temperature and humidity)\n",
    "    sensor_id = random.choice([\"sens_001\", \"sens_002\", \"sens_003\"])\n",
    "    sensor_type = \"TEMPERATURE\" if \"TEMPERATURE\" in sensor_id else \"HUMIDITY\"\n",
    "    value = random.uniform(20, 40) if sensor_type == \"TEMPERATURE\" else random.uniform(30, 60)\n",
    "\n",
    "    new_event = {\n",
    "        \"timestamp\": datetime.now().isoformat(),\n",
    "        \"sensorId\": sensor_id,\n",
    "        \"sensorType\": sensor_type,\n",
    "        \"value\": value\n",
    "    }\n",
    "    return new_event\n",
    "\n",
    "# A function to update the model periodically with new data\n",
    "def update_model_periodically(model, data, interval=10):\n",
    "    \"\"\"\n",
    "    Updates the model by retraining it with new data collected at regular intervals.\n",
    "    - model: the GCN model to be updated.\n",
    "    - data: the PyTorch Geometric Data object containing the current graph.\n",
    "    - interval: how often to update the model in seconds (default is 10 seconds).\n",
    "    \"\"\"\n",
    "    start_time = time.time()\n",
    "\n",
    "    # run for 3 times\n",
    "    for _ in range(3):\n",
    "        time.sleep(interval)\n",
    "        # Simulate collecting new data\n",
    "        new_data = get_new_sensor_data()\n",
    "        print(f\"New data collected: {new_data}\")\n",
    "\n",
    "        # Update the graph and features based on new data (example)\n",
    "        # In a real case, you would update the graph structure (nodes/edges) and features\n",
    "        new_feature = torch.tensor([random.random() for _ in range(10)])  # New random feature (replace with actual data)\n",
    "        data.x = torch.cat((data.x, new_feature.unsqueeze(0)), dim=0)  # Add new feature to existing data\n",
    "\n",
    "        # Retrain the model with the new data (using a simple example here)\n",
    "        model.train()\n",
    "        optimizer.zero_grad()\n",
    "        out = model(data.x, data.edge_index)\n",
    "        loss = criterion(out, torch.zeros(data.x.size(0), dtype=torch.long))  # Dummy labels\n",
    "        loss.backward()\n",
    "        optimizer.step()\n",
    "\n",
    "        print(f\"Model updated with new data. Loss: {loss.item()}\")"
   ]
  },
  {
   "cell_type": "code",
   "execution_count": 39,
   "id": "50b61603cb15fb99",
   "metadata": {
    "ExecuteTime": {
     "end_time": "2024-12-13T21:05:40.424552Z",
     "start_time": "2024-12-13T21:05:40.268805Z"
    }
   },
   "outputs": [
    {
     "name": "stdout",
     "output_type": "stream",
     "text": [
      "New data collected: {'timestamp': '2024-12-15T18:18:03.917893', 'sensorId': 'sens_002', 'sensorType': 'HUMIDITY', 'value': 53.95169708890862}\n",
      "Model updated with new data. Loss: 0.0007530170842073858\n",
      "New data collected: {'timestamp': '2024-12-15T18:18:13.985425', 'sensorId': 'sens_001', 'sensorType': 'HUMIDITY', 'value': 48.327847455531284}\n",
      "Model updated with new data. Loss: 0.0007473482401110232\n",
      "New data collected: {'timestamp': '2024-12-15T18:18:24.177792', 'sensorId': 'sens_001', 'sensorType': 'HUMIDITY', 'value': 47.9869621726355}\n",
      "Model updated with new data. Loss: 0.0007417379529215395\n"
     ]
    }
   ],
   "source": [
    "# Example usage: Start periodic model updates\n",
    "update_model_periodically(model, data, interval=10)  # Update every 10 seconds"
   ]
  },
  {
   "cell_type": "code",
   "execution_count": null,
   "id": "c56a22f9e728383e",
   "metadata": {},
   "outputs": [],
   "source": []
  }
 ],
 "metadata": {
  "kernelspec": {
   "display_name": "Python 3 (ipykernel)",
   "language": "python",
   "name": "python3"
  },
  "language_info": {
   "codemirror_mode": {
    "name": "ipython",
    "version": 3
   },
   "file_extension": ".py",
   "mimetype": "text/x-python",
   "name": "python",
   "nbconvert_exporter": "python",
   "pygments_lexer": "ipython3",
   "version": "3.10.12"
  }
 },
 "nbformat": 4,
 "nbformat_minor": 5
}
